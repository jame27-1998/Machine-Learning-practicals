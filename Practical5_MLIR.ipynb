{
  "nbformat": 4,
  "nbformat_minor": 0,
  "metadata": {
    "colab": {
      "name": "Practical5-MLIR.ipynb",
      "provenance": [],
      "collapsed_sections": []
    },
    "kernelspec": {
      "name": "python3",
      "display_name": "Python 3"
    },
    "language_info": {
      "name": "python"
    }
  },
  "cells": [
    {
      "cell_type": "code",
      "metadata": {
        "id": "XKgy_W7GFnxx",
        "cellView": "form",
        "colab": {
          "base_uri": "https://localhost:8080/"
        },
        "outputId": "a3f68942-135e-40b8-9cb1-87ce403009bc"
      },
      "source": [
        "#@title\n",
        "import nltk\n",
        "nltk.download('all')"
      ],
      "execution_count": null,
      "outputs": [
        {
          "output_type": "stream",
          "text": [
            "[nltk_data] Downloading collection 'all'\n",
            "[nltk_data]    | \n",
            "[nltk_data]    | Downloading package abc to /root/nltk_data...\n",
            "[nltk_data]    |   Unzipping corpora/abc.zip.\n",
            "[nltk_data]    | Downloading package alpino to /root/nltk_data...\n",
            "[nltk_data]    |   Unzipping corpora/alpino.zip.\n",
            "[nltk_data]    | Downloading package biocreative_ppi to\n",
            "[nltk_data]    |     /root/nltk_data...\n",
            "[nltk_data]    |   Unzipping corpora/biocreative_ppi.zip.\n",
            "[nltk_data]    | Downloading package brown to /root/nltk_data...\n",
            "[nltk_data]    |   Unzipping corpora/brown.zip.\n",
            "[nltk_data]    | Downloading package brown_tei to /root/nltk_data...\n",
            "[nltk_data]    |   Unzipping corpora/brown_tei.zip.\n",
            "[nltk_data]    | Downloading package cess_cat to /root/nltk_data...\n",
            "[nltk_data]    |   Unzipping corpora/cess_cat.zip.\n",
            "[nltk_data]    | Downloading package cess_esp to /root/nltk_data...\n",
            "[nltk_data]    |   Unzipping corpora/cess_esp.zip.\n",
            "[nltk_data]    | Downloading package chat80 to /root/nltk_data...\n",
            "[nltk_data]    |   Unzipping corpora/chat80.zip.\n",
            "[nltk_data]    | Downloading package city_database to\n",
            "[nltk_data]    |     /root/nltk_data...\n",
            "[nltk_data]    |   Unzipping corpora/city_database.zip.\n",
            "[nltk_data]    | Downloading package cmudict to /root/nltk_data...\n",
            "[nltk_data]    |   Unzipping corpora/cmudict.zip.\n",
            "[nltk_data]    | Downloading package comparative_sentences to\n",
            "[nltk_data]    |     /root/nltk_data...\n",
            "[nltk_data]    |   Unzipping corpora/comparative_sentences.zip.\n",
            "[nltk_data]    | Downloading package comtrans to /root/nltk_data...\n",
            "[nltk_data]    | Downloading package conll2000 to /root/nltk_data...\n",
            "[nltk_data]    |   Unzipping corpora/conll2000.zip.\n",
            "[nltk_data]    | Downloading package conll2002 to /root/nltk_data...\n",
            "[nltk_data]    |   Unzipping corpora/conll2002.zip.\n",
            "[nltk_data]    | Downloading package conll2007 to /root/nltk_data...\n",
            "[nltk_data]    | Downloading package crubadan to /root/nltk_data...\n",
            "[nltk_data]    |   Unzipping corpora/crubadan.zip.\n",
            "[nltk_data]    | Downloading package dependency_treebank to\n",
            "[nltk_data]    |     /root/nltk_data...\n",
            "[nltk_data]    |   Unzipping corpora/dependency_treebank.zip.\n",
            "[nltk_data]    | Downloading package dolch to /root/nltk_data...\n",
            "[nltk_data]    |   Unzipping corpora/dolch.zip.\n",
            "[nltk_data]    | Downloading package europarl_raw to\n",
            "[nltk_data]    |     /root/nltk_data...\n",
            "[nltk_data]    |   Unzipping corpora/europarl_raw.zip.\n",
            "[nltk_data]    | Downloading package floresta to /root/nltk_data...\n",
            "[nltk_data]    |   Unzipping corpora/floresta.zip.\n",
            "[nltk_data]    | Downloading package framenet_v15 to\n",
            "[nltk_data]    |     /root/nltk_data...\n",
            "[nltk_data]    |   Unzipping corpora/framenet_v15.zip.\n",
            "[nltk_data]    | Downloading package framenet_v17 to\n",
            "[nltk_data]    |     /root/nltk_data...\n",
            "[nltk_data]    |   Unzipping corpora/framenet_v17.zip.\n",
            "[nltk_data]    | Downloading package gazetteers to /root/nltk_data...\n",
            "[nltk_data]    |   Unzipping corpora/gazetteers.zip.\n",
            "[nltk_data]    | Downloading package genesis to /root/nltk_data...\n",
            "[nltk_data]    |   Unzipping corpora/genesis.zip.\n",
            "[nltk_data]    | Downloading package gutenberg to /root/nltk_data...\n",
            "[nltk_data]    |   Unzipping corpora/gutenberg.zip.\n",
            "[nltk_data]    | Downloading package ieer to /root/nltk_data...\n",
            "[nltk_data]    |   Unzipping corpora/ieer.zip.\n",
            "[nltk_data]    | Downloading package inaugural to /root/nltk_data...\n",
            "[nltk_data]    |   Unzipping corpora/inaugural.zip.\n",
            "[nltk_data]    | Downloading package indian to /root/nltk_data...\n",
            "[nltk_data]    |   Unzipping corpora/indian.zip.\n",
            "[nltk_data]    | Downloading package jeita to /root/nltk_data...\n",
            "[nltk_data]    | Downloading package kimmo to /root/nltk_data...\n",
            "[nltk_data]    |   Unzipping corpora/kimmo.zip.\n",
            "[nltk_data]    | Downloading package knbc to /root/nltk_data...\n",
            "[nltk_data]    | Downloading package lin_thesaurus to\n",
            "[nltk_data]    |     /root/nltk_data...\n",
            "[nltk_data]    |   Unzipping corpora/lin_thesaurus.zip.\n",
            "[nltk_data]    | Downloading package mac_morpho to /root/nltk_data...\n",
            "[nltk_data]    |   Unzipping corpora/mac_morpho.zip.\n",
            "[nltk_data]    | Downloading package machado to /root/nltk_data...\n",
            "[nltk_data]    | Downloading package masc_tagged to /root/nltk_data...\n",
            "[nltk_data]    | Downloading package moses_sample to\n",
            "[nltk_data]    |     /root/nltk_data...\n",
            "[nltk_data]    |   Unzipping models/moses_sample.zip.\n",
            "[nltk_data]    | Downloading package movie_reviews to\n",
            "[nltk_data]    |     /root/nltk_data...\n",
            "[nltk_data]    |   Unzipping corpora/movie_reviews.zip.\n",
            "[nltk_data]    | Downloading package names to /root/nltk_data...\n",
            "[nltk_data]    |   Unzipping corpora/names.zip.\n",
            "[nltk_data]    | Downloading package nombank.1.0 to /root/nltk_data...\n",
            "[nltk_data]    | Downloading package nps_chat to /root/nltk_data...\n",
            "[nltk_data]    |   Unzipping corpora/nps_chat.zip.\n",
            "[nltk_data]    | Downloading package omw to /root/nltk_data...\n",
            "[nltk_data]    |   Unzipping corpora/omw.zip.\n",
            "[nltk_data]    | Downloading package opinion_lexicon to\n",
            "[nltk_data]    |     /root/nltk_data...\n",
            "[nltk_data]    |   Unzipping corpora/opinion_lexicon.zip.\n",
            "[nltk_data]    | Downloading package paradigms to /root/nltk_data...\n",
            "[nltk_data]    |   Unzipping corpora/paradigms.zip.\n",
            "[nltk_data]    | Downloading package pil to /root/nltk_data...\n",
            "[nltk_data]    |   Unzipping corpora/pil.zip.\n",
            "[nltk_data]    | Downloading package pl196x to /root/nltk_data...\n",
            "[nltk_data]    |   Unzipping corpora/pl196x.zip.\n",
            "[nltk_data]    | Downloading package ppattach to /root/nltk_data...\n",
            "[nltk_data]    |   Unzipping corpora/ppattach.zip.\n",
            "[nltk_data]    | Downloading package problem_reports to\n",
            "[nltk_data]    |     /root/nltk_data...\n",
            "[nltk_data]    |   Unzipping corpora/problem_reports.zip.\n",
            "[nltk_data]    | Downloading package propbank to /root/nltk_data...\n",
            "[nltk_data]    | Downloading package ptb to /root/nltk_data...\n",
            "[nltk_data]    |   Unzipping corpora/ptb.zip.\n",
            "[nltk_data]    | Downloading package product_reviews_1 to\n",
            "[nltk_data]    |     /root/nltk_data...\n",
            "[nltk_data]    |   Unzipping corpora/product_reviews_1.zip.\n",
            "[nltk_data]    | Downloading package product_reviews_2 to\n",
            "[nltk_data]    |     /root/nltk_data...\n",
            "[nltk_data]    |   Unzipping corpora/product_reviews_2.zip.\n",
            "[nltk_data]    | Downloading package pros_cons to /root/nltk_data...\n",
            "[nltk_data]    |   Unzipping corpora/pros_cons.zip.\n",
            "[nltk_data]    | Downloading package qc to /root/nltk_data...\n",
            "[nltk_data]    |   Unzipping corpora/qc.zip.\n",
            "[nltk_data]    | Downloading package reuters to /root/nltk_data...\n",
            "[nltk_data]    | Downloading package rte to /root/nltk_data...\n",
            "[nltk_data]    |   Unzipping corpora/rte.zip.\n",
            "[nltk_data]    | Downloading package semcor to /root/nltk_data...\n",
            "[nltk_data]    | Downloading package senseval to /root/nltk_data...\n",
            "[nltk_data]    |   Unzipping corpora/senseval.zip.\n",
            "[nltk_data]    | Downloading package sentiwordnet to\n",
            "[nltk_data]    |     /root/nltk_data...\n",
            "[nltk_data]    |   Unzipping corpora/sentiwordnet.zip.\n",
            "[nltk_data]    | Downloading package sentence_polarity to\n",
            "[nltk_data]    |     /root/nltk_data...\n",
            "[nltk_data]    |   Unzipping corpora/sentence_polarity.zip.\n",
            "[nltk_data]    | Downloading package shakespeare to /root/nltk_data...\n",
            "[nltk_data]    |   Unzipping corpora/shakespeare.zip.\n",
            "[nltk_data]    | Downloading package sinica_treebank to\n",
            "[nltk_data]    |     /root/nltk_data...\n",
            "[nltk_data]    |   Unzipping corpora/sinica_treebank.zip.\n",
            "[nltk_data]    | Downloading package smultron to /root/nltk_data...\n",
            "[nltk_data]    |   Unzipping corpora/smultron.zip.\n",
            "[nltk_data]    | Downloading package state_union to /root/nltk_data...\n",
            "[nltk_data]    |   Unzipping corpora/state_union.zip.\n",
            "[nltk_data]    | Downloading package stopwords to /root/nltk_data...\n",
            "[nltk_data]    |   Unzipping corpora/stopwords.zip.\n",
            "[nltk_data]    | Downloading package subjectivity to\n",
            "[nltk_data]    |     /root/nltk_data...\n",
            "[nltk_data]    |   Unzipping corpora/subjectivity.zip.\n",
            "[nltk_data]    | Downloading package swadesh to /root/nltk_data...\n",
            "[nltk_data]    |   Unzipping corpora/swadesh.zip.\n",
            "[nltk_data]    | Downloading package switchboard to /root/nltk_data...\n",
            "[nltk_data]    |   Unzipping corpora/switchboard.zip.\n",
            "[nltk_data]    | Downloading package timit to /root/nltk_data...\n",
            "[nltk_data]    |   Unzipping corpora/timit.zip.\n",
            "[nltk_data]    | Downloading package toolbox to /root/nltk_data...\n",
            "[nltk_data]    |   Unzipping corpora/toolbox.zip.\n",
            "[nltk_data]    | Downloading package treebank to /root/nltk_data...\n",
            "[nltk_data]    |   Unzipping corpora/treebank.zip.\n",
            "[nltk_data]    | Downloading package twitter_samples to\n",
            "[nltk_data]    |     /root/nltk_data...\n",
            "[nltk_data]    |   Unzipping corpora/twitter_samples.zip.\n",
            "[nltk_data]    | Downloading package udhr to /root/nltk_data...\n",
            "[nltk_data]    |   Unzipping corpora/udhr.zip.\n",
            "[nltk_data]    | Downloading package udhr2 to /root/nltk_data...\n",
            "[nltk_data]    |   Unzipping corpora/udhr2.zip.\n",
            "[nltk_data]    | Downloading package unicode_samples to\n",
            "[nltk_data]    |     /root/nltk_data...\n",
            "[nltk_data]    |   Unzipping corpora/unicode_samples.zip.\n",
            "[nltk_data]    | Downloading package universal_treebanks_v20 to\n",
            "[nltk_data]    |     /root/nltk_data...\n",
            "[nltk_data]    | Downloading package verbnet to /root/nltk_data...\n",
            "[nltk_data]    |   Unzipping corpora/verbnet.zip.\n",
            "[nltk_data]    | Downloading package verbnet3 to /root/nltk_data...\n",
            "[nltk_data]    |   Unzipping corpora/verbnet3.zip.\n",
            "[nltk_data]    | Downloading package webtext to /root/nltk_data...\n",
            "[nltk_data]    |   Unzipping corpora/webtext.zip.\n",
            "[nltk_data]    | Downloading package wordnet to /root/nltk_data...\n",
            "[nltk_data]    |   Unzipping corpora/wordnet.zip.\n",
            "[nltk_data]    | Downloading package wordnet_ic to /root/nltk_data...\n",
            "[nltk_data]    |   Unzipping corpora/wordnet_ic.zip.\n",
            "[nltk_data]    | Downloading package words to /root/nltk_data...\n",
            "[nltk_data]    |   Unzipping corpora/words.zip.\n",
            "[nltk_data]    | Downloading package ycoe to /root/nltk_data...\n",
            "[nltk_data]    |   Unzipping corpora/ycoe.zip.\n",
            "[nltk_data]    | Downloading package rslp to /root/nltk_data...\n",
            "[nltk_data]    |   Unzipping stemmers/rslp.zip.\n",
            "[nltk_data]    | Downloading package maxent_treebank_pos_tagger to\n",
            "[nltk_data]    |     /root/nltk_data...\n",
            "[nltk_data]    |   Unzipping taggers/maxent_treebank_pos_tagger.zip.\n",
            "[nltk_data]    | Downloading package universal_tagset to\n",
            "[nltk_data]    |     /root/nltk_data...\n",
            "[nltk_data]    |   Unzipping taggers/universal_tagset.zip.\n",
            "[nltk_data]    | Downloading package maxent_ne_chunker to\n",
            "[nltk_data]    |     /root/nltk_data...\n",
            "[nltk_data]    |   Unzipping chunkers/maxent_ne_chunker.zip.\n",
            "[nltk_data]    | Downloading package punkt to /root/nltk_data...\n",
            "[nltk_data]    |   Unzipping tokenizers/punkt.zip.\n",
            "[nltk_data]    | Downloading package book_grammars to\n",
            "[nltk_data]    |     /root/nltk_data...\n",
            "[nltk_data]    |   Unzipping grammars/book_grammars.zip.\n",
            "[nltk_data]    | Downloading package sample_grammars to\n",
            "[nltk_data]    |     /root/nltk_data...\n",
            "[nltk_data]    |   Unzipping grammars/sample_grammars.zip.\n",
            "[nltk_data]    | Downloading package spanish_grammars to\n",
            "[nltk_data]    |     /root/nltk_data...\n",
            "[nltk_data]    |   Unzipping grammars/spanish_grammars.zip.\n",
            "[nltk_data]    | Downloading package basque_grammars to\n",
            "[nltk_data]    |     /root/nltk_data...\n",
            "[nltk_data]    |   Unzipping grammars/basque_grammars.zip.\n",
            "[nltk_data]    | Downloading package large_grammars to\n",
            "[nltk_data]    |     /root/nltk_data...\n",
            "[nltk_data]    |   Unzipping grammars/large_grammars.zip.\n",
            "[nltk_data]    | Downloading package tagsets to /root/nltk_data...\n",
            "[nltk_data]    |   Unzipping help/tagsets.zip.\n",
            "[nltk_data]    | Downloading package snowball_data to\n",
            "[nltk_data]    |     /root/nltk_data...\n",
            "[nltk_data]    | Downloading package bllip_wsj_no_aux to\n",
            "[nltk_data]    |     /root/nltk_data...\n",
            "[nltk_data]    |   Unzipping models/bllip_wsj_no_aux.zip.\n",
            "[nltk_data]    | Downloading package word2vec_sample to\n",
            "[nltk_data]    |     /root/nltk_data...\n",
            "[nltk_data]    |   Unzipping models/word2vec_sample.zip.\n",
            "[nltk_data]    | Downloading package panlex_swadesh to\n",
            "[nltk_data]    |     /root/nltk_data...\n",
            "[nltk_data]    | Downloading package mte_teip5 to /root/nltk_data...\n",
            "[nltk_data]    |   Unzipping corpora/mte_teip5.zip.\n",
            "[nltk_data]    | Downloading package averaged_perceptron_tagger to\n",
            "[nltk_data]    |     /root/nltk_data...\n",
            "[nltk_data]    |   Unzipping taggers/averaged_perceptron_tagger.zip.\n",
            "[nltk_data]    | Downloading package averaged_perceptron_tagger_ru to\n",
            "[nltk_data]    |     /root/nltk_data...\n",
            "[nltk_data]    |   Unzipping\n",
            "[nltk_data]    |       taggers/averaged_perceptron_tagger_ru.zip.\n",
            "[nltk_data]    | Downloading package perluniprops to\n",
            "[nltk_data]    |     /root/nltk_data...\n",
            "[nltk_data]    |   Unzipping misc/perluniprops.zip.\n",
            "[nltk_data]    | Downloading package nonbreaking_prefixes to\n",
            "[nltk_data]    |     /root/nltk_data...\n",
            "[nltk_data]    |   Unzipping corpora/nonbreaking_prefixes.zip.\n",
            "[nltk_data]    | Downloading package vader_lexicon to\n",
            "[nltk_data]    |     /root/nltk_data...\n",
            "[nltk_data]    | Downloading package porter_test to /root/nltk_data...\n",
            "[nltk_data]    |   Unzipping stemmers/porter_test.zip.\n",
            "[nltk_data]    | Downloading package wmt15_eval to /root/nltk_data...\n",
            "[nltk_data]    |   Unzipping models/wmt15_eval.zip.\n",
            "[nltk_data]    | Downloading package mwa_ppdb to /root/nltk_data...\n",
            "[nltk_data]    |   Unzipping misc/mwa_ppdb.zip.\n",
            "[nltk_data]    | \n",
            "[nltk_data]  Done downloading collection all\n"
          ],
          "name": "stdout"
        },
        {
          "output_type": "execute_result",
          "data": {
            "text/plain": [
              "True"
            ]
          },
          "metadata": {
            "tags": []
          },
          "execution_count": 2
        }
      ]
    },
    {
      "cell_type": "code",
      "metadata": {
        "id": "K-Ca7l56lfp2"
      },
      "source": [
        ""
      ],
      "execution_count": null,
      "outputs": []
    },
    {
      "cell_type": "code",
      "metadata": {
        "id": "AnI1ENxJLuQR"
      },
      "source": [
        "from nltk import word_tokenize"
      ],
      "execution_count": null,
      "outputs": []
    },
    {
      "cell_type": "code",
      "metadata": {
        "id": "KlPs3r-DdRwe"
      },
      "source": [
        "from csv import reader\n",
        "import numpy as np\n",
        "from nltk.corpus import stopwords\n",
        "from nltk.stem import PorterStemmer\n",
        "import re\n",
        "\n",
        "tokens = []\n",
        "class_article = []\n",
        "stop_words = set(stopwords.words('english'))\n",
        "ps = PorterStemmer()\n",
        "\n",
        "with open('/content/train.csv', 'r') as read_obj:\n",
        "  csv_reader = reader(read_obj)\n",
        "  for row in csv_reader:   \n",
        "    article_description = row[1]\n",
        "    class_article.append([row[0],article_description])\n",
        "    cleaned_text = re.sub('[^A-Za-z0-9]+|[0-9]', \" \", article_description)\n",
        "    token = [ps.stem(w) for w in word_tokenize(cleaned_text)]\n",
        "    tokens = np.append(tokens, token)\n",
        "\n",
        "unique_tokens = np.unique(tokens)\n",
        "filtered_sentence = [w.lower() for w in unique_tokens if not w.lower() in stop_words]"
      ],
      "execution_count": null,
      "outputs": []
    },
    {
      "cell_type": "code",
      "metadata": {
        "colab": {
          "base_uri": "https://localhost:8080/"
        },
        "id": "Zzkp-NZmJRF2",
        "outputId": "1d026165-dfae-4688-f7fe-0e69a9f623ac"
      },
      "source": [
        "import random\n",
        "random.shuffle(class_article)\n",
        "for ca in class_article[:10]:\n",
        "  print(ca[0], \"----\", ca[1])"
      ],
      "execution_count": null,
      "outputs": [
        {
          "output_type": "stream",
          "text": [
            "4 ---- Indictments Using DNA on Rise Nationally (AP)\n",
            "3 ---- HP shares tumble on profit news\n",
            "3 ---- Expansion slows in Japan\n",
            "3 ---- In a Down Market, Head Toward Value Funds\n",
            "4 ---- Infocus: Wireless Attacks and Penetration Testing (part 3 of 3)\n",
            "1 ---- Florida Residents Face Hurricane Wreckage\n",
            "3 ---- Oil and Economy Cloud Stocks' Outlook\n",
            "2 ---- Dreaming done, NBA stars awaken to harsh Olympic reality (AFP)\n",
            "2 ---- Huey Exits Early\n",
            "1 ---- Lamenting London's double-deckers Up-to-date buses supplant symbol\n"
          ],
          "name": "stdout"
        }
      ]
    },
    {
      "cell_type": "code",
      "metadata": {
        "colab": {
          "base_uri": "https://localhost:8080/"
        },
        "id": "74icN03uiT2J",
        "outputId": "c222283d-c61f-4128-8d16-2709abb39d6a"
      },
      "source": [
        "print(class_article[0])\n",
        "print(filtered_sentence)\n",
        "print(len(filtered_sentence))"
      ],
      "execution_count": null,
      "outputs": [
        {
          "output_type": "stream",
          "text": [
            "['4', 'Indictments Using DNA on Rise Nationally (AP)']\n",
            "['al', 'ap', 'au', 'ad', 'b', 'ca', 'ch', 'ex', 'fm', 'fi', 'gp', 'go', 'hp', 'k', 'nl', 'pc', 'r', 'sa', 'sp', 'st', 'tv', 'u', 'uk', 'us', 'us', 'wi', 'xp', 'abov', 'access', 'across', 'action', 'add', 'advanc', 'aerospac', 'affirm', 'afghanistan', 'afp', 'age', 'ahead', 'aid', 'airlift', 'alert', 'allawi', 'allig', 'amazon', 'amd', 'american', 'among', 'anim', 'anoth', 'anti', 'antispam', 'anyway', 'aol', 'app', 'appl', 'applebi', 'arabia', 'archiv', 'arm', 'around', 'arriv', 'articl', 'asia', 'asian', 'assembl', 'athen', 'athlet', 'ati', 'attack', 'attorney', 'auction', 'audit', 'australia', 'australian', 'author', 'autodesk', 'avoid', 'awaken', 'awar', 'away', 'back', 'bad', 'bail', 'bank', 'bargain', 'barrel', 'batten', 'battl', 'bea', 'bear', 'beat', 'begin', 'belong', 'benham', 'best', 'better', 'bid', 'big', 'bill', 'biometr', 'bite', 'black', 'blackberri', 'blacklist', 'blaster', 'bling', 'blog', 'blue', 'bn', 'board', 'bomb', 'boob', 'boot', 'bosnia', 'bowl', 'boy', 'brave', 'bring', 'broadli', 'budapest', 'bungl', 'buse', 'bush', 'busi', 'buy', 'call', 'campaign', 'canada', 'cancel', 'captur', 'car', 'card', 'career', 'caregiv', 'carlyl', 'carri', 'cast', 'catalog', 'ceasefir', 'celebr', 'cell', 'central', 'chad', 'chairman', 'chanc', 'chang', 'chapter', 'charley', 'chavez', 'cheer', 'china', 'chip', 'chrysler', 'circl', 'citi', 'claria', 'clash', 'claw', 'clipboard', 'clone', 'cloud', 'cluster', 'co', 'coast', 'coland', 'collabor', 'collaps', 'collin', 'columnist', 'com', 'come', 'commerci', 'compani', 'comput', 'concern', 'confer', 'confus', 'contamin', 'control', 'cool', 'copi', 'copier', 'corp', 'corpor', 'cost', 'could', 'countri', 'cover', 'crack', 'craiglist', 'craigslist', 'creat', 'creator', 'creep', 'crew', 'crime', 'crisi', 'critic', 'crowd', 'crucial', 'cub', 'cultur', 'custom', 'cut', 'cytometri', 'darfur', 'data', 'databas', 'date', 'day', 'dead', 'deal', 'debat', 'decis', 'deck', 'decker', 'deep', 'deficit', 'delight', 'deliveri', 'dell', 'demand', 'democrat', 'deploy', 'despit', 'destin', 'differ', 'digit', 'dimension', 'discuss', 'dispatch', 'display', 'disput', 'dissent', 'dna', 'doctor', 'doe', 'dollar', 'domest', 'done', 'doom', 'dope', 'doubl', 'doubt', 'downhom', 'download', 'dream', 'driven', 'drug', 'due', 'dutch', 'dvd', 'e', 'earli', 'earn', 'ebay', 'economi', 'edit', 'edward', 'eight', 'elect', 'electron', 'elsewher', 'emerg', 'employe', 'emul', 'end', 'energi', 'engin', 'enough', 'epa', 'espn', 'eurozon', 'everyday', 'everyth', 'ex', 'examin', 'exec', 'execut', 'exit', 'expand', 'expans', 'explod', 'exploit', 'export', 'expos', 'eye', 'face', 'fail', 'fall', 'famili', 'fan', 'fark', 'fashion', 'fate', 'fcc', 'fed', 'fell', 'fewer', 'field', 'fight', 'fill', 'final', 'fine', 'firewal', 'firm', 'first', 'five', 'fla', 'flameout', 'flex', 'flip', 'float', 'floor', 'florida', 'floridian', 'flow', 'follow', 'fontenot', 'footbal', 'forb', 'form', 'format', 'forum', 'franc', 'free', 'freestyl', 'friday', 'frugal', 'fuel', 'fund', 'galaxi', 'gannon', 'gap', 'garageband', 'garden', 'gartner', 'gather', 'gavel', 'gear', 'gener', 'georgian', 'get', 'give', 'gleam', 'globular', 'gloom', 'go', 'good', 'googl', 'gov', 'grab', 'grant', 'greek', 'group', 'grow', 'growth', 'guilti', 'guitar', 'gun', 'ha', 'haa', 'hack', 'hacker', 'halt', 'harsh', 'hatch', 'head', 'heartbreak', 'heat', 'held', 'help', 'hi', 'high', 'hip', 'hold', 'homag', 'home', 'homer', 'honor', 'hop', 'hostag', 'hot', 'http', 'huey', 'hungarian', 'hunger', 'hunter', 'hurrican', 'hurt', 'idea', 'imag', 'imf', 'independ', 'index', 'india', 'indian', 'indict', 'inexpens', 'infield', 'inflat', 'infocu', 'inform', 'insecur', 'insid', 'insur', 'intel', 'interest', 'intern', 'intersect', 'interview', 'introduc', 'inventor', 'ipo', 'iran', 'iranian', 'iraq', 'iraqi', 'isra', 'issu', 'itali', 'itun', 'jackson', 'jail', 'japan', 'japanes', 'job', 'jone', 'judg', 'judo', 'june', 'k', 'keep', 'kerri', 'key', 'kid', 'kill', 'kinder', 'king', 'knock', 'korea', 'korean', 'lament', 'latest', 'launch', 'lead', 'leftov', 'legal', 'leonard', 'leskan', 'letter', 'life', 'lift', 'line', 'loaiza', 'london', 'look', 'lori', 'lot', 'lourd', 'low', 'lower', 'lynn', 'lynx', 'madden', 'mail', 'main', 'make', 'man', 'manila', 'map', 'mark', 'market', 'mass', 'match', 'mauritian', 'may', 'measur', 'media', 'meet', 'memori', 'menac', 'microsoft', 'militia', 'million', 'mine', 'minist', 'minnesota', 'minor', 'minut', 'miss', 'mission', 'missouri', 'mistak', 'mix', 'mobil', 'mock', 'modern', 'money', 'monkey', 'monro', 'mortar', 'motion', 'move', 'movi', 'msn', 'muddi', 'muscl', 'music', 'must', 'mysteri', 'myth', 'najaf', 'nanomet', 'nation', 'nato', 'nba', 'near', 'need', 'nest', 'net', 'network', 'nevada', 'new', 'newest', 'news', 'nh', 'nice', 'non', 'north', 'notabl', 'note', 'nuclear', 'ocean', 'offens', 'offer', 'oil', 'old', 'oldsmobil', 'olerud', 'olymp', 'one', 'onlin', 'opec', 'open', 'oper', 'oppon', 'opposit', 'optim', 'option', 'orient', 'ossetia', 'outag', 'outlook', 'output', 'overhaul', 'overtak', 'padr', 'paid', 'palestinian', 'palmsourc', 'panacea', 'parad', 'paradis', 'pariti', 'park', 'part', 'patch', 'patent', 'path', 'pay', 'penetr', 'pennetta', 'percent', 'person', 'pet', 'phelp', 'philippin', 'phone', 'pictur', 'pilgrim', 'pimlico', 'pinoy', 'pipelin', 'plan', 'plant', 'play', 'playboy', 'player', 'plead', 'polic', 'polit', 'ponder', 'pool', 'pop', 'pope', 'pose', 'possibl', 'post', 'powerschool', 'practic', 'prejudic', 'premium', 'presid', 'pretti', 'price', 'privat', 'probe', 'proclaim', 'product', 'profit', 'project', 'projector', 'prokom', 'proof', 'propos', 'prospectu', 'protest', 'public', 'pump', 'punch', 'purnomo', 'put', 'qualifi', 'qualiti', 'quarantin', 'quarter', 'quest', 'quicken', 'quiet', 'race', 'rage', 'rail', 'rain', 'rais', 'rand', 'rare', 'rate', 'ravag', 'reach', 'read', 'readi', 'real', 'realiti', 'recal', 'record', 'recoveri', 'red', 'redmond', 'redskin', 'referendum', 'reform', 'refuge', 'registr', 'rehab', 'relay', 'rental', 'rescu', 'research', 'resid', 'resign', 'retail', 'return', 'reuter', 'review', 'revolut', 'revolution', 'rise', 'roadblock', 'robot', 'rocket', 'rocki', 'roll', 'round', 'row', 'rowl', 'rule', 'rumsfeld', 'run', 'runner', 'russia', 'rwanda', 'rwandan', 'sadr', 'safeti', 'said', 'sale', 'salem', 'salvat', 'saudi', 'saver', 'say', 'school', 'scientist', 'score', 'sea', 'search', 'season', 'secreci', 'sector', 'secur', 'see', 'seek', 'sell', 'senat', 'sensat', 'servic', 'set', 'settl', 'settlement', 'seven', 'share', 'sharp', 'shell', 'ship', 'shock', 'shop', 'shortag', 'show', 'showdown', 'shrine', 'shut', 'sing', 'singh', 'sink', 'size', 'skill', 'slip', 'slow', 'sm', 'snack', 'soar', 'softwar', 'soldier', 'somewher', 'song', 'south', 'southeast', 'southern', 'spade', 'spam', 'speed', 'spike', 'spotlight', 'spywar', 'squar', 'stake', 'star', 'start', 'starter', 'state', 'statu', 'steadi', 'steam', 'steamrol', 'stock', 'stoke', 'store', 'storm', 'stream', 'stress', 'strike', 'studi', 'studio', 'stun', 'sudan', 'sue', 'suit', 'super', 'superfund', 'superpow', 'supplant', 'surrend', 'suspend', 'swell', 'swept', 'swimmer', 'swing', 'switch', 'symbian', 'symbol', 'synstar', 'system', 'tackl', 'take', 'tale', 'talk', 'tap', 'target', 'team', 'tech', 'technolog', 'teen', 'tens', 'test', 'textil', 'thi', 'thorp', 'thought', 'thread', 'throwback', 'tie', 'tiger', 'tight', 'time', 'titl', 'today', 'togeth', 'tool', 'top', 'total', 'tough', 'tourism', 'toward', 'town', 'toy', 'track', 'trade', 'transceiv', 'treat', 'trojan', 'troop', 'true', 'tumbl', 'tunnel', 'turn', 'turtl', 'twice', 'twin', 'type', 'ultim', 'univers', 'unpreced', 'untangl', 'unveil', 'updat', 'upgrad', 'urg', 'usatoday', 'usc', 'use', 'user', 'valu', 'venezuela', 'venezuelan', 'verizon', 'vessel', 'veteran', 'vez', 'via', 'viciou', 'victori', 'video', 'violat', 'violent', 'virtual', 'viru', 'visit', 'vote', 'wall', 'wallpap', 'war', 'warlord', 'warmer', 'warn', 'wash', 'water', 'wave', 'way', 'web', 'week', 'weight', 'wet', 'white', 'whoi', 'wild', 'wilder', 'win', 'window', 'wireless', 'wood', 'work', 'world', 'worm', 'wound', 'wrap', 'wreckag', 'wrestl', 'yahoo', 'yanke', 'year', 'youth']\n",
            "893\n"
          ],
          "name": "stdout"
        }
      ]
    },
    {
      "cell_type": "code",
      "metadata": {
        "id": "1Je5Htf_v6J3"
      },
      "source": [
        "freq_dict_1 = {}\n",
        "freq_dict_2 = {}\n",
        "freq_dict_3 = {}\n",
        "freq_dict_4 = {}\n",
        "\n",
        "for w in filtered_sentence:\n",
        "  freq_dict_1[w] = 0 if w not in freq_dict_1 else freq_dict_1[w] + 1\n",
        "  freq_dict_2[w] = 0 if w not in freq_dict_2 else freq_dict_2[w] + 1\n",
        "  freq_dict_3[w] = 0 if w not in freq_dict_3 else freq_dict_3[w] + 1\n",
        "  freq_dict_4[w] = 0 if w not in freq_dict_4 else freq_dict_4[w] + 1\n",
        "\n",
        "\n",
        "for w in filtered_sentence:\n",
        "  for item in class_article:\n",
        "    if item[0] == '1' and w.lower() in item[1].lower():\n",
        "      freq_dict_1[w] = freq_dict_1[w] + 1\n",
        "    if item[0] == '2' and w.lower() in item[1].lower():\n",
        "      freq_dict_2[w] = freq_dict_2[w] + 1\n",
        "    if item[0] == '3' and w.lower() in item[1].lower():\n",
        "      freq_dict_3[w] = freq_dict_3[w] + 1\n",
        "    if item[0] == '4' and w.lower() in item[1].lower():\n",
        "      freq_dict_4[w] = freq_dict_4[w] + 1"
      ],
      "execution_count": null,
      "outputs": []
    },
    {
      "cell_type": "code",
      "metadata": {
        "colab": {
          "base_uri": "https://localhost:8080/"
        },
        "id": "bOGMOIMx7NM7",
        "outputId": "77abe62f-a1df-425a-d969-813bdee9263e"
      },
      "source": [
        "print(freq_dict_1)\n",
        "print(freq_dict_2)\n",
        "print(freq_dict_3)\n",
        "print(freq_dict_4)"
      ],
      "execution_count": null,
      "outputs": [
        {
          "output_type": "stream",
          "text": [
            "{'al': 10, 'ap': 9, 'au': 2, 'ad': 10, 'b': 11, 'ca': 7, 'ch': 7, 'ex': 5, 'fm': 1, 'fi': 4, 'gp': 0, 'go': 1, 'hp': 0, 'k': 37, 'nl': 0, 'pc': 0, 'r': 48, 'sa': 1, 'sp': 2, 'st': 14, 'tv': 0, 'u': 34, 'uk': 1, 'us': 9, 'wi': 5, 'xp': 0, 'abov': 0, 'access': 0, 'across': 0, 'action': 0, 'add': 0, 'advanc': 2, 'aerospac': 0, 'affirm': 0, 'afghanistan': 1, 'afp': 3, 'age': 5, 'ahead': 0, 'aid': 0, 'airlift': 1, 'alert': 0, 'allawi': 1, 'allig': 0, 'amazon': 0, 'amd': 0, 'american': 0, 'among': 1, 'anim': 0, 'anoth': 0, 'anti': 0, 'antispam': 0, 'anyway': 0, 'aol': 0, 'app': 0, 'appl': 0, 'applebi': 0, 'arabia': 0, 'archiv': 0, 'arm': 0, 'around': 0, 'arriv': 2, 'articl': 0, 'asia': 0, 'asian': 0, 'assembl': 1, 'athen': 1, 'athlet': 0, 'ati': 1, 'attack': 0, 'attorney': 1, 'auction': 0, 'audit': 0, 'australia': 1, 'australian': 1, 'author': 0, 'autodesk': 0, 'avoid': 0, 'awaken': 0, 'awar': 0, 'away': 0, 'back': 0, 'bad': 0, 'bail': 0, 'bank': 0, 'bargain': 0, 'barrel': 0, 'batten': 0, 'battl': 1, 'bea': 0, 'bear': 0, 'beat': 0, 'begin': 0, 'belong': 0, 'benham': 0, 'best': 0, 'better': 0, 'bid': 0, 'big': 1, 'bill': 0, 'biometr': 0, 'bite': 0, 'black': 0, 'blackberri': 0, 'blacklist': 0, 'blaster': 0, 'bling': 0, 'blog': 0, 'blue': 0, 'bn': 0, 'board': 0, 'bomb': 2, 'boob': 0, 'boot': 0, 'bosnia': 1, 'bowl': 0, 'boy': 0, 'brave': 0, 'bring': 0, 'broadli': 0, 'budapest': 0, 'bungl': 0, 'buse': 1, 'bush': 1, 'busi': 0, 'buy': 0, 'call': 2, 'campaign': 1, 'canada': 0, 'cancel': 0, 'captur': 0, 'car': 1, 'card': 0, 'career': 0, 'caregiv': 0, 'carlyl': 0, 'carri': 1, 'cast': 1, 'catalog': 0, 'ceasefir': 2, 'celebr': 1, 'cell': 0, 'central': 0, 'chad': 0, 'chairman': 0, 'chanc': 0, 'chang': 1, 'chapter': 0, 'charley': 1, 'chavez': 2, 'cheer': 0, 'china': 1, 'chip': 0, 'chrysler': 0, 'circl': 0, 'citi': 0, 'claria': 0, 'clash': 2, 'claw': 0, 'clipboard': 0, 'clone': 0, 'cloud': 0, 'cluster': 0, 'co': 3, 'coast': 0, 'coland': 0, 'collabor': 0, 'collaps': 1, 'collin': 0, 'columnist': 0, 'com': 0, 'come': 0, 'commerci': 0, 'compani': 0, 'comput': 0, 'concern': 0, 'confer': 1, 'confus': 0, 'contamin': 0, 'control': 0, 'cool': 0, 'copi': 0, 'copier': 0, 'corp': 0, 'corpor': 0, 'cost': 0, 'could': 0, 'countri': 0, 'cover': 1, 'crack': 0, 'craiglist': 0, 'craigslist': 0, 'creat': 0, 'creator': 0, 'creep': 0, 'crew': 0, 'crime': 1, 'crisi': 1, 'critic': 0, 'crowd': 1, 'crucial': 1, 'cub': 0, 'cultur': 0, 'custom': 0, 'cut': 2, 'cytometri': 0, 'darfur': 2, 'data': 0, 'databas': 0, 'date': 1, 'day': 0, 'dead': 1, 'deal': 0, 'debat': 1, 'decis': 0, 'deck': 1, 'decker': 1, 'deep': 0, 'deficit': 0, 'delight': 0, 'deliveri': 0, 'dell': 0, 'demand': 0, 'democrat': 1, 'deploy': 0, 'despit': 0, 'destin': 0, 'differ': 0, 'digit': 0, 'dimension': 0, 'discuss': 1, 'dispatch': 1, 'display': 0, 'disput': 0, 'dissent': 0, 'dna': 0, 'doctor': 0, 'doe': 0, 'dollar': 0, 'domest': 0, 'done': 0, 'doom': 0, 'dope': 0, 'doubl': 1, 'doubt': 1, 'downhom': 0, 'download': 0, 'dream': 0, 'driven': 0, 'drug': 1, 'due': 0, 'dutch': 0, 'dvd': 0, 'e': 48, 'earli': 0, 'earn': 0, 'ebay': 0, 'economi': 0, 'edit': 0, 'edward': 1, 'eight': 0, 'elect': 0, 'electron': 0, 'elsewher': 0, 'emerg': 0, 'employe': 0, 'emul': 0, 'end': 4, 'energi': 0, 'engin': 0, 'enough': 0, 'epa': 1, 'espn': 0, 'eurozon': 0, 'everyday': 0, 'everyth': 0, 'examin': 0, 'exec': 2, 'execut': 2, 'exit': 0, 'expand': 0, 'expans': 0, 'explod': 0, 'exploit': 0, 'export': 0, 'expos': 0, 'eye': 1, 'face': 1, 'fail': 0, 'fall': 0, 'famili': 0, 'fan': 1, 'fark': 0, 'fashion': 0, 'fate': 1, 'fcc': 0, 'fed': 0, 'fell': 0, 'fewer': 0, 'field': 1, 'fight': 1, 'fill': 0, 'final': 0, 'fine': 0, 'firewal': 0, 'firm': 0, 'first': 0, 'five': 0, 'fla': 1, 'flameout': 0, 'flex': 0, 'flip': 0, 'float': 0, 'floor': 0, 'florida': 1, 'floridian': 1, 'flow': 0, 'follow': 0, 'fontenot': 0, 'footbal': 0, 'forb': 0, 'form': 1, 'format': 0, 'forum': 0, 'franc': 0, 'free': 2, 'freestyl': 2, 'friday': 0, 'frugal': 1, 'fuel': 1, 'fund': 0, 'galaxi': 0, 'gannon': 0, 'gap': 0, 'garageband': 0, 'garden': 0, 'gartner': 0, 'gather': 1, 'gavel': 0, 'gear': 0, 'gener': 1, 'georgian': 1, 'get': 0, 'give': 0, 'gleam': 0, 'globular': 0, 'gloom': 0, 'good': 0, 'googl': 0, 'gov': 0, 'grab': 0, 'grant': 0, 'greek': 0, 'group': 0, 'grow': 0, 'growth': 0, 'guilti': 0, 'guitar': 0, 'gun': 1, 'ha': 6, 'haa': 0, 'hack': 1, 'hacker': 0, 'halt': 0, 'harsh': 0, 'hatch': 0, 'head': 0, 'heartbreak': 0, 'heat': 0, 'held': 1, 'help': 3, 'hi': 2, 'high': 1, 'hip': 0, 'hold': 2, 'homag': 1, 'home': 1, 'homer': 0, 'honor': 0, 'hop': 0, 'hostag': 1, 'hot': 0, 'http': 0, 'huey': 0, 'hungarian': 0, 'hunger': 1, 'hunter': 0, 'hurrican': 1, 'hurt': 0, 'idea': 0, 'imag': 0, 'imf': 0, 'independ': 2, 'index': 0, 'india': 3, 'indian': 0, 'indict': 0, 'inexpens': 0, 'infield': 0, 'inflat': 0, 'infocu': 0, 'inform': 0, 'insecur': 0, 'insid': 0, 'insur': 1, 'intel': 0, 'interest': 0, 'intern': 0, 'intersect': 0, 'interview': 0, 'introduc': 0, 'inventor': 0, 'ipo': 0, 'iran': 0, 'iranian': 0, 'iraq': 5, 'iraqi': 2, 'isra': 1, 'issu': 0, 'itali': 0, 'itun': 0, 'jackson': 1, 'jail': 1, 'japan': 2, 'japanes': 1, 'job': 0, 'jone': 0, 'judg': 0, 'judo': 1, 'june': 0, 'keep': 0, 'kerri': 0, 'key': 1, 'kid': 0, 'kill': 2, 'kinder': 0, 'king': 1, 'knock': 0, 'korea': 3, 'korean': 2, 'lament': 1, 'latest': 0, 'launch': 0, 'lead': 3, 'leftov': 0, 'legal': 0, 'leonard': 0, 'leskan': 0, 'letter': 0, 'life': 0, 'lift': 1, 'line': 1, 'loaiza': 0, 'london': 1, 'look': 0, 'lori': 3, 'lot': 0, 'lourd': 1, 'low': 0, 'lower': 0, 'lynn': 0, 'lynx': 0, 'madden': 0, 'mail': 0, 'main': 0, 'make': 0, 'man': 0, 'manila': 0, 'map': 0, 'mark': 1, 'market': 0, 'mass': 2, 'match': 0, 'mauritian': 0, 'may': 1, 'measur': 0, 'media': 0, 'meet': 0, 'memori': 1, 'menac': 0, 'microsoft': 0, 'militia': 1, 'million': 0, 'mine': 0, 'minist': 1, 'minnesota': 0, 'minor': 0, 'minut': 0, 'miss': 2, 'mission': 1, 'missouri': 1, 'mistak': 0, 'mix': 1, 'mobil': 0, 'mock': 1, 'modern': 0, 'money': 0, 'monkey': 0, 'monro': 0, 'mortar': 1, 'motion': 0, 'move': 0, 'movi': 0, 'msn': 0, 'muddi': 0, 'muscl': 0, 'music': 0, 'must': 0, 'mysteri': 0, 'myth': 0, 'najaf': 3, 'nanomet': 0, 'nation': 0, 'nato': 2, 'nba': 0, 'near': 0, 'need': 0, 'nest': 0, 'net': 0, 'network': 0, 'nevada': 0, 'new': 1, 'newest': 0, 'news': 0, 'nh': 0, 'nice': 0, 'non': 0, 'north': 1, 'notabl': 0, 'note': 0, 'nuclear': 1, 'ocean': 0, 'offens': 0, 'offer': 0, 'oil': 0, 'old': 4, 'oldsmobil': 0, 'olerud': 0, 'olymp': 1, 'one': 1, 'onlin': 0, 'opec': 0, 'open': 1, 'oper': 0, 'oppon': 1, 'opposit': 1, 'optim': 0, 'option': 1, 'orient': 0, 'ossetia': 2, 'outag': 0, 'outlook': 0, 'output': 0, 'overhaul': 0, 'overtak': 0, 'padr': 0, 'paid': 0, 'palestinian': 1, 'palmsourc': 0, 'panacea': 0, 'parad': 2, 'paradis': 0, 'pariti': 0, 'park': 0, 'part': 0, 'patch': 1, 'patent': 0, 'path': 0, 'pay': 1, 'penetr': 0, 'pennetta': 0, 'percent': 0, 'person': 0, 'pet': 0, 'phelp': 2, 'philippin': 0, 'phone': 0, 'pictur': 0, 'pilgrim': 1, 'pimlico': 0, 'pinoy': 0, 'pipelin': 0, 'plan': 2, 'plant': 1, 'play': 0, 'playboy': 0, 'player': 0, 'plead': 0, 'polic': 1, 'polit': 1, 'ponder': 0, 'pool': 0, 'pop': 2, 'pope': 2, 'pose': 0, 'possibl': 0, 'post': 0, 'powerschool': 0, 'practic': 0, 'prejudic': 1, 'premium': 1, 'presid': 2, 'pretti': 0, 'price': 0, 'privat': 0, 'probe': 1, 'proclaim': 1, 'product': 0, 'profit': 0, 'project': 0, 'projector': 0, 'prokom': 0, 'proof': 0, 'propos': 0, 'prospectu': 0, 'protest': 1, 'public': 1, 'pump': 0, 'punch': 0, 'purnomo': 0, 'put': 0, 'qualifi': 0, 'qualiti': 0, 'quarantin': 0, 'quarter': 0, 'quest': 0, 'quicken': 0, 'quiet': 0, 'race': 1, 'rage': 1, 'rail': 0, 'rain': 0, 'rais': 0, 'rand': 0, 'rare': 1, 'rate': 1, 'ravag': 1, 'reach': 0, 'read': 1, 'readi': 0, 'real': 0, 'realiti': 0, 'recal': 1, 'record': 0, 'recoveri': 0, 'red': 1, 'redmond': 0, 'redskin': 0, 'referendum': 2, 'reform': 1, 'refuge': 0, 'registr': 0, 'rehab': 0, 'relay': 0, 'rental': 0, 'rescu': 0, 'research': 0, 'resid': 3, 'resign': 0, 'retail': 0, 'return': 1, 'reuter': 4, 'review': 0, 'revolut': 0, 'revolution': 0, 'rise': 0, 'roadblock': 0, 'robot': 0, 'rocket': 0, 'rocki': 0, 'roll': 0, 'round': 0, 'row': 2, 'rowl': 1, 'rule': 2, 'rumsfeld': 1, 'run': 1, 'runner': 0, 'russia': 0, 'rwanda': 3, 'rwandan': 2, 'sadr': 1, 'safeti': 0, 'said': 0, 'sale': 0, 'salem': 0, 'salvat': 0, 'saudi': 0, 'saver': 0, 'say': 0, 'school': 0, 'scientist': 0, 'score': 0, 'sea': 0, 'search': 0, 'season': 0, 'secreci': 0, 'sector': 0, 'secur': 1, 'see': 0, 'seek': 0, 'sell': 0, 'senat': 1, 'sensat': 0, 'servic': 1, 'set': 2, 'settl': 0, 'settlement': 0, 'seven': 1, 'share': 0, 'sharp': 0, 'shell': 0, 'ship': 0, 'shock': 0, 'shop': 0, 'shortag': 0, 'show': 1, 'showdown': 1, 'shrine': 1, 'shut': 0, 'sing': 0, 'singh': 0, 'sink': 0, 'size': 0, 'skill': 0, 'slip': 0, 'slow': 0, 'sm': 0, 'snack': 0, 'soar': 0, 'softwar': 0, 'soldier': 2, 'somewher': 0, 'song': 0, 'south': 2, 'southeast': 0, 'southern': 0, 'spade': 0, 'spam': 0, 'speed': 0, 'spike': 1, 'spotlight': 0, 'spywar': 0, 'squar': 0, 'stake': 1, 'star': 2, 'start': 2, 'starter': 0, 'state': 1, 'statu': 0, 'steadi': 0, 'steam': 0, 'steamrol': 0, 'stock': 0, 'stoke': 0, 'store': 0, 'storm': 1, 'stream': 0, 'stress': 1, 'strike': 1, 'studi': 0, 'studio': 0, 'stun': 0, 'sudan': 1, 'sue': 1, 'suit': 0, 'super': 0, 'superfund': 0, 'superpow': 0, 'supplant': 1, 'surrend': 0, 'suspend': 0, 'swell': 0, 'swept': 0, 'swimmer': 0, 'swing': 1, 'switch': 0, 'symbian': 0, 'symbol': 1, 'synstar': 0, 'system': 0, 'tackl': 1, 'take': 2, 'tale': 0, 'talk': 2, 'tap': 0, 'target': 0, 'team': 0, 'tech': 0, 'technolog': 0, 'teen': 0, 'tens': 1, 'test': 2, 'textil': 0, 'thi': 0, 'thorp': 3, 'thought': 0, 'thread': 0, 'throwback': 0, 'tie': 0, 'tiger': 0, 'tight': 0, 'time': 0, 'titl': 0, 'today': 0, 'togeth': 0, 'tool': 0, 'top': 0, 'total': 0, 'tough': 0, 'tourism': 0, 'toward': 0, 'town': 0, 'toy': 0, 'track': 0, 'trade': 0, 'transceiv': 0, 'treat': 0, 'trojan': 0, 'troop': 4, 'true': 0, 'tumbl': 0, 'tunnel': 0, 'turn': 1, 'turtl': 0, 'twice': 0, 'twin': 0, 'type': 0, 'ultim': 0, 'univers': 0, 'unpreced': 0, 'untangl': 0, 'unveil': 0, 'updat': 0, 'upgrad': 0, 'urg': 1, 'usatoday': 0, 'usc': 0, 'use': 1, 'user': 0, 'valu': 0, 'venezuela': 5, 'venezuelan': 2, 'verizon': 0, 'vessel': 0, 'veteran': 0, 'vez': 3, 'via': 0, 'viciou': 0, 'victori': 0, 'video': 0, 'violat': 1, 'violent': 1, 'virtual': 0, 'viru': 0, 'visit': 1, 'vote': 3, 'wall': 0, 'wallpap': 0, 'war': 4, 'warlord': 1, 'warmer': 0, 'warn': 1, 'wash': 0, 'water': 0, 'wave': 1, 'way': 0, 'web': 0, 'week': 0, 'weight': 0, 'wet': 0, 'white': 0, 'whoi': 0, 'wild': 0, 'wilder': 0, 'win': 1, 'window': 0, 'wireless': 0, 'wood': 0, 'work': 0, 'world': 0, 'worm': 0, 'wound': 1, 'wrap': 0, 'wreckag': 1, 'wrestl': 0, 'yahoo': 0, 'yanke': 0, 'year': 0, 'youth': 1}\n",
            "{'al': 7, 'ap': 12, 'au': 2, 'ad': 7, 'b': 19, 'ca': 4, 'ch': 3, 'ex': 5, 'fm': 0, 'fi': 2, 'gp': 2, 'go': 7, 'hp': 0, 'k': 31, 'nl': 1, 'pc': 0, 'r': 42, 'sa': 1, 'sp': 2, 'st': 11, 'tv': 0, 'u': 25, 'uk': 0, 'us': 9, 'wi': 11, 'xp': 0, 'abov': 1, 'access': 0, 'across': 0, 'action': 0, 'add': 0, 'advanc': 1, 'aerospac': 0, 'affirm': 0, 'afghanistan': 0, 'afp': 1, 'age': 0, 'ahead': 1, 'aid': 0, 'airlift': 0, 'alert': 0, 'allawi': 0, 'allig': 0, 'amazon': 0, 'amd': 0, 'american': 0, 'among': 0, 'anim': 0, 'anoth': 0, 'anti': 0, 'antispam': 0, 'anyway': 0, 'aol': 0, 'app': 1, 'appl': 1, 'applebi': 0, 'arabia': 0, 'archiv': 0, 'arm': 2, 'around': 0, 'arriv': 0, 'articl': 0, 'asia': 0, 'asian': 0, 'assembl': 0, 'athen': 0, 'athlet': 1, 'ati': 1, 'attack': 0, 'attorney': 0, 'auction': 0, 'audit': 1, 'australia': 1, 'australian': 0, 'author': 0, 'autodesk': 0, 'avoid': 0, 'awaken': 1, 'awar': 0, 'away': 0, 'back': 2, 'bad': 0, 'bail': 1, 'bank': 0, 'bargain': 0, 'barrel': 0, 'batten': 0, 'battl': 1, 'bea': 2, 'bear': 0, 'beat': 2, 'begin': 1, 'belong': 0, 'benham': 0, 'best': 1, 'better': 0, 'bid': 0, 'big': 0, 'bill': 0, 'biometr': 0, 'bite': 0, 'black': 0, 'blackberri': 0, 'blacklist': 0, 'blaster': 0, 'bling': 0, 'blog': 0, 'blue': 0, 'bn': 0, 'board': 0, 'bomb': 0, 'boob': 0, 'boot': 1, 'bosnia': 0, 'bowl': 0, 'boy': 0, 'brave': 1, 'bring': 0, 'broadli': 0, 'budapest': 3, 'bungl': 1, 'buse': 0, 'bush': 0, 'busi': 0, 'buy': 0, 'call': 0, 'campaign': 0, 'canada': 1, 'cancel': 0, 'captur': 0, 'car': 3, 'card': 2, 'career': 1, 'caregiv': 0, 'carlyl': 0, 'carri': 0, 'cast': 0, 'catalog': 0, 'ceasefir': 0, 'celebr': 0, 'cell': 0, 'central': 0, 'chad': 0, 'chairman': 0, 'chanc': 1, 'chang': 0, 'chapter': 0, 'charley': 0, 'chavez': 0, 'cheer': 1, 'china': 0, 'chip': 0, 'chrysler': 0, 'circl': 1, 'citi': 0, 'claria': 0, 'clash': 0, 'claw': 0, 'clipboard': 0, 'clone': 0, 'cloud': 0, 'cluster': 0, 'co': 6, 'coast': 0, 'coland': 1, 'collabor': 0, 'collaps': 0, 'collin': 1, 'columnist': 0, 'com': 0, 'come': 0, 'commerci': 0, 'compani': 0, 'comput': 0, 'concern': 0, 'confer': 0, 'confus': 0, 'contamin': 0, 'control': 0, 'cool': 0, 'copi': 0, 'copier': 0, 'corp': 0, 'corpor': 0, 'cost': 1, 'could': 0, 'countri': 0, 'cover': 0, 'crack': 0, 'craiglist': 0, 'craigslist': 0, 'creat': 0, 'creator': 0, 'creep': 0, 'crew': 1, 'crime': 0, 'crisi': 0, 'critic': 0, 'crowd': 0, 'crucial': 0, 'cub': 1, 'cultur': 0, 'custom': 0, 'cut': 0, 'cytometri': 0, 'darfur': 0, 'data': 0, 'databas': 0, 'date': 0, 'day': 2, 'dead': 0, 'deal': 0, 'debat': 0, 'decis': 0, 'deck': 0, 'decker': 0, 'deep': 0, 'deficit': 0, 'delight': 0, 'deliveri': 0, 'dell': 0, 'demand': 0, 'democrat': 0, 'deploy': 0, 'despit': 0, 'destin': 0, 'differ': 0, 'digit': 0, 'dimension': 0, 'discuss': 0, 'dispatch': 0, 'display': 0, 'disput': 0, 'dissent': 0, 'dna': 0, 'doctor': 0, 'doe': 0, 'dollar': 0, 'domest': 0, 'done': 1, 'doom': 0, 'dope': 0, 'doubl': 0, 'doubt': 0, 'downhom': 0, 'download': 0, 'dream': 1, 'driven': 0, 'drug': 0, 'due': 1, 'dutch': 0, 'dvd': 0, 'e': 41, 'earli': 0, 'earn': 0, 'ebay': 0, 'economi': 0, 'edit': 0, 'edward': 0, 'eight': 2, 'elect': 0, 'electron': 0, 'elsewher': 0, 'emerg': 0, 'employe': 0, 'emul': 1, 'end': 2, 'energi': 0, 'engin': 0, 'enough': 1, 'epa': 0, 'espn': 0, 'eurozon': 0, 'everyday': 0, 'everyth': 1, 'examin': 0, 'exec': 0, 'execut': 0, 'exit': 1, 'expand': 0, 'expans': 0, 'explod': 0, 'exploit': 0, 'export': 0, 'expos': 0, 'eye': 0, 'face': 0, 'fail': 0, 'fall': 0, 'famili': 0, 'fan': 0, 'fark': 0, 'fashion': 0, 'fate': 0, 'fcc': 0, 'fed': 0, 'fell': 0, 'fewer': 0, 'field': 1, 'fight': 0, 'fill': 0, 'final': 0, 'fine': 1, 'firewal': 0, 'firm': 0, 'first': 0, 'five': 0, 'fla': 0, 'flameout': 0, 'flex': 0, 'flip': 1, 'float': 0, 'floor': 0, 'florida': 0, 'floridian': 0, 'flow': 0, 'follow': 1, 'fontenot': 1, 'footbal': 0, 'forb': 0, 'form': 2, 'format': 0, 'forum': 0, 'franc': 0, 'free': 2, 'freestyl': 1, 'friday': 1, 'frugal': 0, 'fuel': 0, 'fund': 0, 'galaxi': 0, 'gannon': 1, 'gap': 0, 'garageband': 0, 'garden': 1, 'gartner': 0, 'gather': 0, 'gavel': 0, 'gear': 0, 'gener': 0, 'georgian': 0, 'get': 2, 'give': 0, 'gleam': 0, 'globular': 0, 'gloom': 0, 'good': 3, 'googl': 0, 'gov': 0, 'grab': 0, 'grant': 0, 'greek': 2, 'group': 0, 'grow': 0, 'growth': 0, 'guilti': 0, 'guitar': 0, 'gun': 0, 'ha': 5, 'haa': 1, 'hack': 0, 'hacker': 0, 'halt': 0, 'harsh': 1, 'hatch': 0, 'head': 1, 'heartbreak': 0, 'heat': 0, 'held': 0, 'help': 3, 'hi': 5, 'high': 0, 'hip': 0, 'hold': 0, 'homag': 0, 'home': 2, 'homer': 1, 'honor': 1, 'hop': 0, 'hostag': 0, 'hot': 0, 'http': 0, 'huey': 1, 'hungarian': 2, 'hunger': 0, 'hunter': 0, 'hurrican': 0, 'hurt': 0, 'idea': 1, 'imag': 0, 'imf': 0, 'independ': 0, 'index': 0, 'india': 1, 'indian': 1, 'indict': 0, 'inexpens': 0, 'infield': 1, 'inflat': 0, 'infocu': 0, 'inform': 0, 'insecur': 0, 'insid': 0, 'insur': 0, 'intel': 0, 'interest': 0, 'intern': 0, 'intersect': 0, 'interview': 0, 'introduc': 0, 'inventor': 0, 'ipo': 0, 'iran': 1, 'iranian': 1, 'iraq': 0, 'iraqi': 0, 'isra': 1, 'issu': 0, 'itali': 0, 'itun': 0, 'jackson': 0, 'jail': 0, 'japan': 0, 'japanes': 0, 'job': 0, 'jone': 2, 'judg': 0, 'judo': 0, 'june': 0, 'keep': 0, 'kerri': 0, 'key': 0, 'kid': 0, 'kill': 0, 'kinder': 0, 'king': 2, 'knock': 1, 'korea': 0, 'korean': 0, 'lament': 0, 'latest': 1, 'launch': 0, 'lead': 3, 'leftov': 0, 'legal': 0, 'leonard': 1, 'leskan': 1, 'letter': 0, 'life': 0, 'lift': 0, 'line': 0, 'loaiza': 1, 'london': 0, 'look': 1, 'lori': 0, 'lot': 0, 'lourd': 0, 'low': 1, 'lower': 0, 'lynn': 0, 'lynx': 1, 'madden': 0, 'mail': 0, 'main': 0, 'make': 1, 'man': 0, 'manila': 0, 'map': 0, 'mark': 1, 'market': 0, 'mass': 0, 'match': 1, 'mauritian': 0, 'may': 0, 'measur': 0, 'media': 1, 'meet': 1, 'memori': 0, 'menac': 0, 'microsoft': 0, 'militia': 0, 'million': 0, 'mine': 0, 'minist': 0, 'minnesota': 0, 'minor': 0, 'minut': 0, 'miss': 1, 'mission': 0, 'missouri': 0, 'mistak': 0, 'mix': 0, 'mobil': 0, 'mock': 0, 'modern': 0, 'money': 0, 'monkey': 0, 'monro': 0, 'mortar': 0, 'motion': 0, 'move': 0, 'movi': 0, 'msn': 0, 'muddi': 0, 'muscl': 0, 'music': 0, 'must': 0, 'mysteri': 0, 'myth': 0, 'najaf': 0, 'nanomet': 0, 'nation': 0, 'nato': 0, 'nba': 1, 'near': 1, 'need': 1, 'nest': 0, 'net': 1, 'network': 0, 'nevada': 0, 'new': 0, 'newest': 0, 'news': 0, 'nh': 0, 'nice': 0, 'non': 1, 'north': 0, 'notabl': 1, 'note': 0, 'nuclear': 0, 'ocean': 0, 'offens': 1, 'offer': 0, 'oil': 0, 'old': 0, 'oldsmobil': 0, 'olerud': 2, 'olymp': 4, 'one': 4, 'onlin': 0, 'opec': 0, 'open': 2, 'oper': 0, 'oppon': 0, 'opposit': 0, 'optim': 0, 'option': 0, 'orient': 0, 'ossetia': 0, 'outag': 0, 'outlook': 0, 'output': 0, 'overhaul': 0, 'overtak': 1, 'padr': 1, 'paid': 0, 'palestinian': 0, 'palmsourc': 0, 'panacea': 0, 'parad': 0, 'paradis': 0, 'pariti': 0, 'park': 0, 'part': 0, 'patch': 0, 'patent': 0, 'path': 0, 'pay': 0, 'penetr': 0, 'pennetta': 1, 'percent': 0, 'person': 0, 'pet': 0, 'phelp': 3, 'philippin': 0, 'phone': 0, 'pictur': 0, 'pilgrim': 0, 'pimlico': 1, 'pinoy': 0, 'pipelin': 0, 'plan': 0, 'plant': 0, 'play': 1, 'playboy': 0, 'player': 0, 'plead': 0, 'polic': 0, 'polit': 0, 'ponder': 0, 'pool': 0, 'pop': 1, 'pope': 0, 'pose': 0, 'possibl': 1, 'post': 0, 'powerschool': 0, 'practic': 1, 'prejudic': 0, 'premium': 0, 'presid': 0, 'pretti': 0, 'price': 0, 'privat': 0, 'probe': 0, 'proclaim': 0, 'product': 0, 'profit': 0, 'project': 0, 'projector': 0, 'prokom': 1, 'proof': 0, 'propos': 0, 'prospectu': 0, 'protest': 0, 'public': 0, 'pump': 0, 'punch': 0, 'purnomo': 0, 'put': 1, 'qualifi': 0, 'qualiti': 0, 'quarantin': 0, 'quarter': 0, 'quest': 0, 'quicken': 0, 'quiet': 0, 'race': 2, 'rage': 0, 'rail': 0, 'rain': 0, 'rais': 0, 'rand': 0, 'rare': 0, 'rate': 0, 'ravag': 0, 'reach': 0, 'read': 0, 'readi': 0, 'real': 1, 'realiti': 0, 'recal': 0, 'record': 1, 'recoveri': 0, 'red': 2, 'redmond': 0, 'redskin': 1, 'referendum': 0, 'reform': 0, 'refuge': 0, 'registr': 0, 'rehab': 1, 'relay': 1, 'rental': 0, 'rescu': 0, 'research': 0, 'resid': 0, 'resign': 0, 'retail': 0, 'return': 0, 'reuter': 0, 'review': 0, 'revolut': 1, 'revolution': 1, 'rise': 0, 'roadblock': 0, 'robot': 0, 'rocket': 0, 'rocki': 0, 'roll': 0, 'round': 1, 'row': 2, 'rowl': 0, 'rule': 0, 'rumsfeld': 0, 'run': 2, 'runner': 1, 'russia': 0, 'rwanda': 0, 'rwandan': 0, 'sadr': 0, 'safeti': 0, 'said': 0, 'sale': 0, 'salem': 0, 'salvat': 0, 'saudi': 0, 'saver': 0, 'say': 0, 'school': 0, 'scientist': 0, 'score': 0, 'sea': 1, 'search': 0, 'season': 1, 'secreci': 0, 'sector': 0, 'secur': 0, 'see': 0, 'seek': 0, 'sell': 0, 'senat': 0, 'sensat': 1, 'servic': 0, 'set': 2, 'settl': 0, 'settlement': 0, 'seven': 0, 'share': 0, 'sharp': 0, 'shell': 0, 'ship': 0, 'shock': 0, 'shop': 0, 'shortag': 0, 'show': 0, 'showdown': 0, 'shrine': 0, 'shut': 0, 'sing': 2, 'singh': 1, 'sink': 1, 'size': 1, 'skill': 0, 'slip': 0, 'slow': 0, 'sm': 0, 'snack': 0, 'soar': 0, 'softwar': 0, 'soldier': 0, 'somewher': 0, 'song': 0, 'south': 0, 'southeast': 0, 'southern': 0, 'spade': 1, 'spam': 0, 'speed': 0, 'spike': 0, 'spotlight': 0, 'spywar': 0, 'squar': 0, 'stake': 0, 'star': 3, 'start': 2, 'starter': 0, 'state': 0, 'statu': 0, 'steadi': 0, 'steam': 1, 'steamrol': 0, 'stock': 0, 'stoke': 0, 'store': 1, 'storm': 1, 'stream': 0, 'stress': 0, 'strike': 0, 'studi': 0, 'studio': 0, 'stun': 0, 'sudan': 0, 'sue': 0, 'suit': 0, 'super': 0, 'superfund': 0, 'superpow': 0, 'supplant': 0, 'surrend': 0, 'suspend': 1, 'swell': 0, 'swept': 0, 'swimmer': 1, 'swing': 0, 'switch': 0, 'symbian': 0, 'symbol': 0, 'synstar': 0, 'system': 0, 'tackl': 0, 'take': 0, 'tale': 0, 'talk': 0, 'tap': 0, 'target': 0, 'team': 3, 'tech': 0, 'technolog': 0, 'teen': 0, 'tens': 0, 'test': 1, 'textil': 0, 'thi': 2, 'thorp': 1, 'thought': 0, 'thread': 0, 'throwback': 1, 'tie': 2, 'tiger': 1, 'tight': 1, 'time': 1, 'titl': 0, 'today': 0, 'togeth': 0, 'tool': 0, 'top': 1, 'total': 0, 'tough': 1, 'tourism': 0, 'toward': 0, 'town': 0, 'toy': 0, 'track': 2, 'trade': 0, 'transceiv': 0, 'treat': 0, 'trojan': 1, 'troop': 0, 'true': 1, 'tumbl': 0, 'tunnel': 0, 'turn': 0, 'turtl': 0, 'twice': 1, 'twin': 1, 'type': 0, 'ultim': 0, 'univers': 0, 'unpreced': 0, 'untangl': 0, 'unveil': 0, 'updat': 0, 'upgrad': 0, 'urg': 0, 'usatoday': 0, 'usc': 2, 'use': 0, 'user': 0, 'valu': 0, 'venezuela': 0, 'venezuelan': 0, 'verizon': 0, 'vessel': 0, 'veteran': 0, 'vez': 0, 'via': 0, 'viciou': 0, 'victori': 0, 'video': 0, 'violat': 0, 'violent': 0, 'virtual': 0, 'viru': 0, 'visit': 0, 'vote': 0, 'wall': 0, 'wallpap': 0, 'war': 1, 'warlord': 0, 'warmer': 1, 'warn': 0, 'wash': 0, 'water': 0, 'wave': 0, 'way': 0, 'web': 0, 'week': 0, 'weight': 1, 'wet': 1, 'white': 0, 'whoi': 0, 'wild': 2, 'wilder': 1, 'win': 6, 'window': 0, 'wireless': 0, 'wood': 1, 'work': 1, 'world': 1, 'worm': 0, 'wound': 0, 'wrap': 2, 'wreckag': 0, 'wrestl': 0, 'yahoo': 0, 'yanke': 1, 'year': 0, 'youth': 0}\n",
            "{'al': 19, 'ap': 8, 'au': 7, 'ad': 8, 'b': 33, 'ca': 3, 'ch': 9, 'ex': 13, 'fm': 0, 'fi': 9, 'gp': 0, 'go': 15, 'hp': 2, 'k': 61, 'nl': 1, 'pc': 0, 'r': 66, 'sa': 8, 'sp': 1, 'st': 18, 'tv': 0, 'u': 53, 'uk': 0, 'us': 17, 'wi': 3, 'xp': 2, 'abov': 0, 'access': 0, 'across': 1, 'action': 1, 'add': 0, 'advanc': 0, 'aerospac': 1, 'affirm': 1, 'afghanistan': 0, 'afp': 1, 'age': 2, 'ahead': 0, 'aid': 4, 'airlift': 0, 'alert': 0, 'allawi': 0, 'allig': 1, 'amazon': 0, 'amd': 0, 'american': 0, 'among': 0, 'anim': 0, 'anoth': 0, 'anti': 0, 'antispam': 0, 'anyway': 1, 'aol': 0, 'app': 1, 'appl': 1, 'applebi': 0, 'arabia': 1, 'archiv': 0, 'arm': 0, 'around': 0, 'arriv': 0, 'articl': 0, 'asia': 3, 'asian': 2, 'assembl': 0, 'athen': 0, 'athlet': 0, 'ati': 5, 'attack': 0, 'attorney': 0, 'auction': 2, 'audit': 0, 'australia': 0, 'australian': 0, 'author': 0, 'autodesk': 1, 'avoid': 0, 'awaken': 0, 'awar': 0, 'away': 1, 'back': 3, 'bad': 0, 'bail': 0, 'bank': 1, 'bargain': 1, 'barrel': 1, 'batten': 0, 'battl': 0, 'bea': 4, 'bear': 2, 'beat': 1, 'begin': 1, 'belong': 1, 'benham': 0, 'best': 2, 'better': 0, 'bid': 0, 'big': 1, 'bill': 1, 'biometr': 0, 'bite': 0, 'black': 2, 'blackberri': 0, 'blacklist': 0, 'blaster': 0, 'bling': 1, 'blog': 0, 'blue': 2, 'bn': 1, 'board': 1, 'bomb': 0, 'boob': 1, 'boot': 0, 'bosnia': 0, 'bowl': 0, 'boy': 3, 'brave': 0, 'bring': 0, 'broadli': 0, 'budapest': 0, 'bungl': 0, 'buse': 0, 'bush': 0, 'busi': 1, 'buy': 1, 'call': 0, 'campaign': 0, 'canada': 0, 'cancel': 0, 'captur': 0, 'car': 2, 'card': 0, 'career': 0, 'caregiv': 0, 'carlyl': 1, 'carri': 0, 'cast': 0, 'catalog': 0, 'ceasefir': 0, 'celebr': 0, 'cell': 0, 'central': 1, 'chad': 1, 'chairman': 0, 'chanc': 0, 'chang': 0, 'chapter': 1, 'charley': 0, 'chavez': 0, 'cheer': 0, 'china': 0, 'chip': 0, 'chrysler': 1, 'circl': 0, 'citi': 1, 'claria': 0, 'clash': 0, 'claw': 2, 'clipboard': 0, 'clone': 0, 'cloud': 2, 'cluster': 0, 'co': 15, 'coast': 0, 'coland': 0, 'collabor': 1, 'collaps': 0, 'collin': 0, 'columnist': 0, 'com': 5, 'come': 0, 'commerci': 1, 'compani': 0, 'comput': 0, 'concern': 0, 'confer': 0, 'confus': 1, 'contamin': 0, 'control': 0, 'cool': 1, 'copi': 0, 'copier': 0, 'corp': 1, 'corpor': 1, 'cost': 0, 'could': 1, 'countri': 0, 'cover': 0, 'crack': 0, 'craiglist': 0, 'craigslist': 0, 'creat': 0, 'creator': 0, 'creep': 0, 'crew': 0, 'crime': 0, 'crisi': 0, 'critic': 0, 'crowd': 0, 'crucial': 0, 'cub': 0, 'cultur': 1, 'custom': 1, 'cut': 2, 'cytometri': 0, 'darfur': 0, 'data': 0, 'databas': 0, 'date': 0, 'day': 2, 'dead': 0, 'deal': 0, 'debat': 0, 'decis': 0, 'deck': 1, 'decker': 0, 'deep': 0, 'deficit': 1, 'delight': 1, 'deliveri': 0, 'dell': 2, 'demand': 0, 'democrat': 0, 'deploy': 0, 'despit': 0, 'destin': 1, 'differ': 0, 'digit': 0, 'dimension': 0, 'discuss': 0, 'dispatch': 0, 'display': 0, 'disput': 0, 'dissent': 1, 'dna': 0, 'doctor': 0, 'doe': 0, 'dollar': 1, 'domest': 0, 'done': 0, 'doom': 1, 'dope': 0, 'doubl': 0, 'doubt': 0, 'downhom': 1, 'download': 0, 'dream': 0, 'driven': 0, 'drug': 0, 'due': 0, 'dutch': 1, 'dvd': 0, 'e': 77, 'earli': 0, 'earn': 0, 'ebay': 0, 'economi': 0, 'edit': 1, 'edward': 0, 'eight': 0, 'elect': 1, 'electron': 0, 'elsewher': 0, 'emerg': 0, 'employe': 1, 'emul': 0, 'end': 2, 'energi': 0, 'engin': 0, 'enough': 0, 'epa': 0, 'espn': 0, 'eurozon': 1, 'everyday': 0, 'everyth': 0, 'examin': 0, 'exec': 1, 'execut': 0, 'exit': 0, 'expand': 0, 'expans': 1, 'explod': 0, 'exploit': 0, 'export': 1, 'expos': 0, 'eye': 0, 'face': 1, 'fail': 1, 'fall': 2, 'famili': 0, 'fan': 0, 'fark': 1, 'fashion': 0, 'fate': 0, 'fcc': 0, 'fed': 1, 'fell': 1, 'fewer': 0, 'field': 0, 'fight': 0, 'fill': 1, 'final': 1, 'fine': 0, 'firewal': 0, 'firm': 4, 'first': 0, 'five': 1, 'fla': 2, 'flameout': 1, 'flex': 1, 'flip': 0, 'float': 1, 'floor': 0, 'florida': 0, 'floridian': 0, 'flow': 0, 'follow': 0, 'fontenot': 0, 'footbal': 0, 'forb': 1, 'form': 0, 'format': 0, 'forum': 0, 'franc': 1, 'free': 0, 'freestyl': 0, 'friday': 1, 'frugal': 0, 'fuel': 0, 'fund': 2, 'galaxi': 0, 'gannon': 0, 'gap': 1, 'garageband': 0, 'garden': 0, 'gartner': 1, 'gather': 0, 'gavel': 0, 'gear': 1, 'gener': 0, 'georgian': 0, 'get': 3, 'give': 1, 'gleam': 1, 'globular': 0, 'gloom': 1, 'good': 0, 'googl': 5, 'gov': 1, 'grab': 1, 'grant': 2, 'greek': 0, 'group': 1, 'grow': 2, 'growth': 1, 'guilti': 0, 'guitar': 0, 'gun': 0, 'ha': 7, 'haa': 0, 'hack': 0, 'hacker': 0, 'halt': 1, 'harsh': 0, 'hatch': 0, 'head': 2, 'heartbreak': 1, 'heat': 0, 'held': 0, 'help': 1, 'hi': 4, 'high': 0, 'hip': 1, 'hold': 0, 'homag': 0, 'home': 1, 'homer': 0, 'honor': 0, 'hop': 1, 'hostag': 0, 'hot': 1, 'http': 0, 'huey': 0, 'hungarian': 0, 'hunger': 0, 'hunter': 1, 'hurrican': 0, 'hurt': 0, 'idea': 0, 'imag': 0, 'imf': 1, 'independ': 0, 'index': 0, 'india': 1, 'indian': 1, 'indict': 0, 'inexpens': 0, 'infield': 0, 'inflat': 1, 'infocu': 0, 'inform': 0, 'insecur': 0, 'insid': 0, 'insur': 1, 'intel': 0, 'interest': 1, 'intern': 0, 'intersect': 1, 'interview': 0, 'introduc': 0, 'inventor': 1, 'ipo': 4, 'iran': 1, 'iranian': 0, 'iraq': 1, 'iraqi': 0, 'isra': 0, 'issu': 0, 'itali': 0, 'itun': 0, 'jackson': 0, 'jail': 0, 'japan': 2, 'japanes': 0, 'job': 2, 'jone': 0, 'judg': 0, 'judo': 0, 'june': 1, 'keep': 1, 'kerri': 0, 'key': 1, 'kid': 1, 'kill': 1, 'kinder': 1, 'king': 4, 'knock': 0, 'korea': 1, 'korean': 0, 'lament': 0, 'latest': 1, 'launch': 0, 'lead': 0, 'leftov': 0, 'legal': 1, 'leonard': 0, 'leskan': 0, 'letter': 1, 'life': 1, 'lift': 1, 'line': 2, 'loaiza': 0, 'london': 0, 'look': 3, 'lori': 0, 'lot': 1, 'lourd': 0, 'low': 4, 'lower': 1, 'lynn': 2, 'lynx': 0, 'madden': 0, 'mail': 1, 'main': 1, 'make': 0, 'man': 2, 'manila': 1, 'map': 0, 'mark': 2, 'market': 2, 'mass': 0, 'match': 0, 'mauritian': 1, 'may': 1, 'measur': 0, 'media': 0, 'meet': 1, 'memori': 0, 'menac': 1, 'microsoft': 1, 'militia': 0, 'million': 0, 'mine': 0, 'minist': 0, 'minnesota': 0, 'minor': 1, 'minut': 1, 'miss': 0, 'mission': 0, 'missouri': 0, 'mistak': 0, 'mix': 0, 'mobil': 1, 'mock': 0, 'modern': 1, 'money': 1, 'monkey': 1, 'monro': 1, 'mortar': 0, 'motion': 0, 'move': 0, 'movi': 0, 'msn': 0, 'muddi': 0, 'muscl': 1, 'music': 0, 'must': 0, 'mysteri': 0, 'myth': 1, 'najaf': 0, 'nanomet': 0, 'nation': 2, 'nato': 0, 'nba': 0, 'near': 1, 'need': 1, 'nest': 0, 'net': 1, 'network': 0, 'nevada': 0, 'new': 4, 'newest': 0, 'news': 1, 'nh': 2, 'nice': 0, 'non': 1, 'north': 0, 'notabl': 0, 'note': 1, 'nuclear': 1, 'ocean': 0, 'offens': 0, 'offer': 0, 'oil': 6, 'old': 2, 'oldsmobil': 1, 'olerud': 0, 'olymp': 0, 'one': 3, 'onlin': 1, 'opec': 2, 'open': 1, 'oper': 1, 'oppon': 0, 'opposit': 0, 'optim': 0, 'option': 0, 'orient': 1, 'ossetia': 0, 'outag': 0, 'outlook': 2, 'output': 1, 'overhaul': 1, 'overtak': 0, 'padr': 0, 'paid': 1, 'palestinian': 0, 'palmsourc': 0, 'panacea': 0, 'parad': 1, 'paradis': 1, 'pariti': 0, 'park': 1, 'part': 0, 'patch': 0, 'patent': 0, 'path': 1, 'pay': 1, 'penetr': 0, 'pennetta': 0, 'percent': 0, 'person': 1, 'pet': 0, 'phelp': 0, 'philippin': 1, 'phone': 1, 'pictur': 0, 'pilgrim': 0, 'pimlico': 0, 'pinoy': 1, 'pipelin': 1, 'plan': 2, 'plant': 1, 'play': 3, 'playboy': 2, 'player': 0, 'plead': 0, 'polic': 0, 'polit': 0, 'ponder': 0, 'pool': 1, 'pop': 0, 'pope': 0, 'pose': 0, 'possibl': 0, 'post': 0, 'powerschool': 0, 'practic': 0, 'prejudic': 0, 'premium': 0, 'presid': 0, 'pretti': 0, 'price': 2, 'privat': 0, 'probe': 0, 'proclaim': 0, 'product': 1, 'profit': 1, 'project': 2, 'projector': 0, 'prokom': 0, 'proof': 0, 'propos': 0, 'prospectu': 0, 'protest': 0, 'public': 0, 'pump': 1, 'punch': 1, 'purnomo': 1, 'put': 1, 'qualifi': 0, 'qualiti': 0, 'quarantin': 0, 'quarter': 0, 'quest': 1, 'quicken': 0, 'quiet': 0, 'race': 0, 'rage': 0, 'rail': 1, 'rain': 0, 'rais': 0, 'rand': 1, 'rare': 0, 'rate': 3, 'ravag': 0, 'reach': 0, 'read': 1, 'readi': 0, 'real': 1, 'realiti': 0, 'recal': 0, 'record': 2, 'recoveri': 0, 'red': 0, 'redmond': 0, 'redskin': 0, 'referendum': 0, 'reform': 0, 'refuge': 1, 'registr': 0, 'rehab': 0, 'relay': 0, 'rental': 0, 'rescu': 2, 'research': 1, 'resid': 0, 'resign': 0, 'retail': 0, 'return': 0, 'reuter': 5, 'review': 0, 'revolut': 0, 'revolution': 0, 'rise': 0, 'roadblock': 0, 'robot': 0, 'rocket': 0, 'rocki': 0, 'roll': 1, 'round': 0, 'row': 2, 'rowl': 0, 'rule': 1, 'rumsfeld': 0, 'run': 0, 'runner': 0, 'russia': 1, 'rwanda': 0, 'rwandan': 0, 'sadr': 0, 'safeti': 0, 'said': 0, 'sale': 2, 'salem': 1, 'salvat': 0, 'saudi': 2, 'saver': 1, 'say': 0, 'school': 1, 'scientist': 0, 'score': 0, 'sea': 2, 'search': 2, 'season': 0, 'secreci': 0, 'sector': 1, 'secur': 0, 'see': 2, 'seek': 2, 'sell': 1, 'senat': 0, 'sensat': 0, 'servic': 0, 'set': 0, 'settl': 0, 'settlement': 0, 'seven': 0, 'share': 1, 'sharp': 0, 'shell': 1, 'ship': 0, 'shock': 1, 'shop': 1, 'shortag': 1, 'show': 1, 'showdown': 0, 'shrine': 0, 'shut': 1, 'sing': 2, 'singh': 0, 'sink': 0, 'size': 0, 'skill': 1, 'slip': 1, 'slow': 2, 'sm': 2, 'snack': 0, 'soar': 1, 'softwar': 0, 'soldier': 0, 'somewher': 1, 'song': 1, 'south': 2, 'southeast': 0, 'southern': 1, 'spade': 0, 'spam': 0, 'speed': 0, 'spike': 0, 'spotlight': 0, 'spywar': 0, 'squar': 1, 'stake': 0, 'star': 2, 'start': 1, 'starter': 0, 'state': 1, 'statu': 1, 'steadi': 0, 'steam': 1, 'steamrol': 1, 'stock': 3, 'stoke': 0, 'store': 0, 'storm': 0, 'stream': 0, 'stress': 0, 'strike': 0, 'studi': 0, 'studio': 0, 'stun': 0, 'sudan': 0, 'sue': 1, 'suit': 0, 'super': 1, 'superfund': 0, 'superpow': 1, 'supplant': 0, 'surrend': 1, 'suspend': 0, 'swell': 1, 'swept': 1, 'swimmer': 0, 'swing': 0, 'switch': 1, 'symbian': 0, 'symbol': 1, 'synstar': 1, 'system': 0, 'tackl': 1, 'take': 0, 'tale': 1, 'talk': 0, 'tap': 2, 'target': 1, 'team': 1, 'tech': 1, 'technolog': 1, 'teen': 0, 'tens': 0, 'test': 1, 'textil': 1, 'thi': 0, 'thorp': 0, 'thought': 0, 'thread': 1, 'throwback': 0, 'tie': 2, 'tiger': 0, 'tight': 0, 'time': 2, 'titl': 1, 'today': 1, 'togeth': 0, 'tool': 0, 'top': 0, 'total': 1, 'tough': 0, 'tourism': 1, 'toward': 2, 'town': 1, 'toy': 0, 'track': 0, 'trade': 2, 'transceiv': 0, 'treat': 0, 'trojan': 0, 'troop': 0, 'true': 0, 'tumbl': 1, 'tunnel': 0, 'turn': 0, 'turtl': 0, 'twice': 0, 'twin': 0, 'type': 1, 'ultim': 1, 'univers': 0, 'unpreced': 0, 'untangl': 1, 'unveil': 0, 'updat': 0, 'upgrad': 0, 'urg': 0, 'usatoday': 1, 'usc': 1, 'use': 0, 'user': 0, 'valu': 1, 'venezuela': 0, 'venezuelan': 0, 'verizon': 1, 'vessel': 0, 'veteran': 1, 'vez': 0, 'via': 0, 'viciou': 0, 'victori': 0, 'video': 0, 'violat': 0, 'violent': 0, 'virtual': 0, 'viru': 0, 'visit': 0, 'vote': 0, 'wall': 2, 'wallpap': 0, 'war': 2, 'warlord': 0, 'warmer': 0, 'warn': 0, 'wash': 0, 'water': 1, 'wave': 0, 'way': 2, 'web': 0, 'week': 1, 'weight': 0, 'wet': 0, 'white': 1, 'whoi': 0, 'wild': 0, 'wilder': 0, 'win': 1, 'window': 0, 'wireless': 0, 'wood': 0, 'work': 1, 'world': 0, 'worm': 0, 'wound': 0, 'wrap': 0, 'wreckag': 0, 'wrestl': 0, 'yahoo': 0, 'yanke': 0, 'year': 1, 'youth': 0}\n",
            "{'al': 21, 'ap': 16, 'au': 3, 'ad': 15, 'b': 34, 'ca': 6, 'ch': 16, 'ex': 13, 'fm': 0, 'fi': 3, 'gp': 0, 'go': 25, 'hp': 0, 'k': 41, 'nl': 1, 'pc': 2, 'r': 87, 'sa': 5, 'sp': 17, 'st': 37, 'tv': 1, 'u': 71, 'uk': 2, 'us': 33, 'wi': 9, 'xp': 9, 'abov': 0, 'access': 1, 'across': 0, 'action': 0, 'add': 3, 'advanc': 1, 'aerospac': 0, 'affirm': 0, 'afghanistan': 0, 'afp': 0, 'age': 3, 'ahead': 1, 'aid': 1, 'airlift': 0, 'alert': 2, 'allawi': 0, 'allig': 0, 'amazon': 1, 'amd': 1, 'american': 1, 'among': 0, 'anim': 1, 'anoth': 2, 'anti': 3, 'antispam': 1, 'anyway': 0, 'aol': 2, 'app': 4, 'appl': 3, 'applebi': 0, 'arabia': 0, 'archiv': 1, 'arm': 0, 'around': 1, 'arriv': 0, 'articl': 1, 'asia': 0, 'asian': 0, 'assembl': 0, 'athen': 1, 'athlet': 0, 'ati': 12, 'attack': 3, 'attorney': 0, 'auction': 1, 'audit': 0, 'australia': 0, 'australian': 0, 'author': 1, 'autodesk': 0, 'avoid': 3, 'awaken': 0, 'awar': 1, 'away': 0, 'back': 0, 'bad': 1, 'bail': 0, 'bank': 0, 'bargain': 0, 'barrel': 0, 'batten': 1, 'battl': 2, 'bea': 0, 'bear': 0, 'beat': 0, 'begin': 0, 'belong': 0, 'benham': 1, 'best': 0, 'better': 1, 'bid': 1, 'big': 0, 'bill': 0, 'biometr': 1, 'bite': 1, 'black': 2, 'blackberri': 1, 'blacklist': 1, 'blaster': 2, 'bling': 0, 'blog': 1, 'blue': 0, 'bn': 0, 'board': 1, 'bomb': 0, 'boob': 0, 'boot': 0, 'bosnia': 0, 'bowl': 1, 'boy': 3, 'brave': 0, 'bring': 1, 'broadli': 0, 'budapest': 0, 'bungl': 0, 'buse': 0, 'bush': 0, 'busi': 0, 'buy': 3, 'call': 0, 'campaign': 0, 'canada': 0, 'cancel': 1, 'captur': 1, 'car': 1, 'card': 0, 'career': 0, 'caregiv': 1, 'carlyl': 0, 'carri': 0, 'cast': 0, 'catalog': 1, 'ceasefir': 0, 'celebr': 0, 'cell': 2, 'central': 0, 'chad': 0, 'chairman': 1, 'chanc': 0, 'chang': 0, 'chapter': 0, 'charley': 0, 'chavez': 0, 'cheer': 0, 'china': 0, 'chip': 1, 'chrysler': 0, 'circl': 0, 'citi': 0, 'claria': 1, 'clash': 0, 'claw': 0, 'clipboard': 1, 'clone': 1, 'cloud': 0, 'cluster': 1, 'co': 13, 'coast': 1, 'coland': 0, 'collabor': 0, 'collaps': 0, 'collin': 0, 'columnist': 2, 'com': 3, 'come': 0, 'commerci': 0, 'compani': 0, 'comput': 2, 'concern': 1, 'confer': 0, 'confus': 0, 'contamin': 1, 'control': 1, 'cool': 0, 'copi': 1, 'copier': 1, 'corp': 0, 'corpor': 0, 'cost': 0, 'could': 0, 'countri': 0, 'cover': 1, 'crack': 1, 'craiglist': 1, 'craigslist': 3, 'creat': 2, 'creator': 1, 'creep': 1, 'crew': 0, 'crime': 0, 'crisi': 0, 'critic': 1, 'crowd': 0, 'crucial': 0, 'cub': 0, 'cultur': 1, 'custom': 1, 'cut': 0, 'cytometri': 0, 'darfur': 0, 'data': 2, 'databas': 1, 'date': 4, 'day': 3, 'dead': 0, 'deal': 1, 'debat': 0, 'decis': 1, 'deck': 0, 'decker': 0, 'deep': 1, 'deficit': 0, 'delight': 0, 'deliveri': 0, 'dell': 2, 'demand': 1, 'democrat': 0, 'deploy': 1, 'despit': 1, 'destin': 0, 'differ': 1, 'digit': 4, 'dimension': 1, 'discuss': 0, 'dispatch': 0, 'display': 1, 'disput': 4, 'dissent': 0, 'dna': 1, 'doctor': 1, 'doe': 2, 'dollar': 0, 'domest': 1, 'done': 0, 'doom': 0, 'dope': 0, 'doubl': 0, 'doubt': 0, 'downhom': 0, 'download': 1, 'dream': 0, 'driven': 1, 'drug': 0, 'due': 0, 'dutch': 0, 'dvd': 2, 'e': 95, 'earli': 0, 'earn': 1, 'ebay': 4, 'economi': 0, 'edit': 1, 'edward': 0, 'eight': 0, 'elect': 1, 'electron': 1, 'elsewher': 1, 'emerg': 1, 'employe': 0, 'emul': 0, 'end': 1, 'energi': 0, 'engin': 5, 'enough': 0, 'epa': 0, 'espn': 1, 'eurozon': 0, 'everyday': 1, 'everyth': 0, 'examin': 1, 'exec': 0, 'execut': 0, 'exit': 0, 'expand': 1, 'expans': 0, 'explod': 1, 'exploit': 1, 'export': 0, 'expos': 1, 'eye': 0, 'face': 0, 'fail': 0, 'fall': 0, 'famili': 0, 'fan': 0, 'fark': 0, 'fashion': 1, 'fate': 0, 'fcc': 1, 'fed': 0, 'fell': 0, 'fewer': 1, 'field': 0, 'fight': 0, 'fill': 0, 'final': 0, 'fine': 0, 'firewal': 1, 'firm': 0, 'first': 1, 'five': 0, 'fla': 0, 'flameout': 0, 'flex': 0, 'flip': 0, 'float': 0, 'floor': 1, 'florida': 0, 'floridian': 0, 'flow': 1, 'follow': 0, 'fontenot': 0, 'footbal': 1, 'forb': 0, 'form': 3, 'format': 3, 'forum': 2, 'franc': 0, 'free': 0, 'freestyl': 0, 'friday': 1, 'frugal': 0, 'fuel': 0, 'fund': 1, 'galaxi': 1, 'gannon': 0, 'gap': 0, 'garageband': 1, 'garden': 0, 'gartner': 0, 'gather': 0, 'gavel': 1, 'gear': 0, 'gener': 0, 'georgian': 0, 'get': 2, 'give': 2, 'gleam': 0, 'globular': 1, 'gloom': 0, 'good': 0, 'googl': 12, 'gov': 0, 'grab': 0, 'grant': 0, 'greek': 0, 'group': 2, 'grow': 0, 'growth': 0, 'guilti': 0, 'guitar': 1, 'gun': 0, 'ha': 6, 'haa': 0, 'hack': 2, 'hacker': 1, 'halt': 0, 'harsh': 0, 'hatch': 1, 'head': 1, 'heartbreak': 0, 'heat': 1, 'held': 0, 'help': 1, 'hi': 5, 'high': 1, 'hip': 2, 'hold': 0, 'homag': 0, 'home': 0, 'homer': 0, 'honor': 1, 'hop': 0, 'hostag': 0, 'hot': 0, 'http': 1, 'huey': 0, 'hungarian': 0, 'hunger': 0, 'hunter': 0, 'hurrican': 0, 'hurt': 1, 'idea': 0, 'imag': 1, 'imf': 0, 'independ': 0, 'index': 1, 'india': 0, 'indian': 0, 'indict': 1, 'inexpens': 1, 'infield': 0, 'inflat': 0, 'infocu': 4, 'inform': 2, 'insecur': 1, 'insid': 1, 'insur': 0, 'intel': 1, 'interest': 0, 'intern': 1, 'intersect': 0, 'interview': 2, 'introduc': 2, 'inventor': 0, 'ipo': 9, 'iran': 0, 'iranian': 0, 'iraq': 0, 'iraqi': 0, 'isra': 0, 'issu': 1, 'itali': 0, 'itun': 1, 'jackson': 0, 'jail': 0, 'japan': 2, 'japanes': 0, 'job': 0, 'jone': 0, 'judg': 1, 'judo': 0, 'june': 1, 'keep': 0, 'kerri': 0, 'key': 0, 'kid': 0, 'kill': 0, 'kinder': 0, 'king': 1, 'knock': 0, 'korea': 0, 'korean': 0, 'lament': 0, 'latest': 1, 'launch': 1, 'lead': 3, 'leftov': 1, 'legal': 0, 'leonard': 0, 'leskan': 0, 'letter': 0, 'life': 1, 'lift': 0, 'line': 1, 'loaiza': 0, 'london': 0, 'look': 1, 'lori': 0, 'lot': 0, 'lourd': 0, 'low': 2, 'lower': 0, 'lynn': 0, 'lynx': 0, 'madden': 1, 'mail': 0, 'main': 0, 'make': 0, 'man': 2, 'manila': 0, 'map': 1, 'mark': 1, 'market': 1, 'mass': 0, 'match': 0, 'mauritian': 0, 'may': 2, 'measur': 1, 'media': 0, 'meet': 0, 'memori': 0, 'menac': 0, 'microsoft': 4, 'militia': 0, 'million': 2, 'mine': 1, 'minist': 0, 'minnesota': 1, 'minor': 0, 'minut': 0, 'miss': 1, 'mission': 0, 'missouri': 0, 'mistak': 1, 'mix': 0, 'mobil': 1, 'mock': 0, 'modern': 0, 'money': 0, 'monkey': 0, 'monro': 0, 'mortar': 0, 'motion': 1, 'move': 1, 'movi': 1, 'msn': 1, 'muddi': 0, 'muscl': 0, 'music': 2, 'must': 2, 'mysteri': 0, 'myth': 0, 'najaf': 0, 'nanomet': 1, 'nation': 3, 'nato': 0, 'nba': 0, 'near': 0, 'need': 2, 'nest': 1, 'net': 4, 'network': 2, 'nevada': 1, 'new': 6, 'newest': 1, 'news': 3, 'nh': 1, 'nice': 1, 'non': 0, 'north': 0, 'notabl': 0, 'note': 0, 'nuclear': 0, 'ocean': 1, 'offens': 0, 'offer': 1, 'oil': 0, 'old': 0, 'oldsmobil': 0, 'olerud': 0, 'olymp': 2, 'one': 5, 'onlin': 0, 'opec': 0, 'open': 1, 'oper': 0, 'oppon': 0, 'opposit': 0, 'optim': 1, 'option': 0, 'orient': 0, 'ossetia': 0, 'outag': 1, 'outlook': 0, 'output': 0, 'overhaul': 0, 'overtak': 0, 'padr': 0, 'paid': 0, 'palestinian': 0, 'palmsourc': 1, 'panacea': 1, 'parad': 0, 'paradis': 0, 'pariti': 0, 'park': 0, 'part': 3, 'patch': 1, 'patent': 3, 'path': 0, 'pay': 1, 'penetr': 1, 'pennetta': 0, 'percent': 1, 'person': 1, 'pet': 1, 'phelp': 0, 'philippin': 0, 'phone': 3, 'pictur': 1, 'pilgrim': 0, 'pimlico': 0, 'pinoy': 0, 'pipelin': 0, 'plan': 1, 'plant': 0, 'play': 6, 'playboy': 3, 'player': 1, 'plead': 3, 'polic': 1, 'polit': 1, 'ponder': 1, 'pool': 0, 'pop': 1, 'pope': 0, 'pose': 2, 'possibl': 0, 'post': 1, 'powerschool': 1, 'practic': 0, 'prejudic': 0, 'premium': 0, 'presid': 0, 'pretti': 0, 'price': 0, 'privat': 1, 'probe': 0, 'proclaim': 0, 'product': 1, 'profit': 0, 'project': 1, 'projector': 1, 'prokom': 0, 'proof': 1, 'propos': 1, 'prospectu': 1, 'protest': 0, 'public': 1, 'pump': 0, 'punch': 0, 'purnomo': 0, 'put': 8, 'qualifi': 0, 'qualiti': 0, 'quarantin': 1, 'quarter': 1, 'quest': 0, 'quicken': 1, 'quiet': 1, 'race': 0, 'rage': 1, 'rail': 0, 'rain': 1, 'rais': 2, 'rand': 0, 'rare': 0, 'rate': 0, 'ravag': 0, 'reach': 2, 'read': 2, 'readi': 1, 'real': 0, 'realiti': 0, 'recal': 0, 'record': 0, 'recoveri': 0, 'red': 1, 'redmond': 1, 'redskin': 0, 'referendum': 0, 'reform': 0, 'refuge': 0, 'registr': 1, 'rehab': 0, 'relay': 0, 'rental': 1, 'rescu': 0, 'research': 0, 'resid': 0, 'resign': 1, 'retail': 1, 'return': 1, 'reuter': 2, 'review': 1, 'revolut': 1, 'revolution': 1, 'rise': 1, 'roadblock': 1, 'robot': 1, 'rocket': 1, 'rocki': 0, 'roll': 1, 'round': 1, 'row': 0, 'rowl': 0, 'rule': 1, 'rumsfeld': 0, 'run': 0, 'runner': 0, 'russia': 0, 'rwanda': 0, 'rwandan': 0, 'sadr': 0, 'safeti': 0, 'said': 1, 'sale': 0, 'salem': 0, 'salvat': 1, 'saudi': 0, 'saver': 0, 'say': 3, 'school': 1, 'scientist': 2, 'score': 1, 'sea': 6, 'search': 5, 'season': 0, 'secreci': 0, 'sector': 0, 'secur': 5, 'see': 2, 'seek': 1, 'sell': 0, 'senat': 0, 'sensat': 0, 'servic': 1, 'set': 5, 'settl': 4, 'settlement': 1, 'seven': 0, 'share': 1, 'sharp': 1, 'shell': 0, 'ship': 2, 'shock': 0, 'shop': 0, 'shortag': 0, 'show': 1, 'showdown': 0, 'shrine': 0, 'shut': 0, 'sing': 3, 'singh': 0, 'sink': 0, 'size': 1, 'skill': 0, 'slip': 0, 'slow': 1, 'sm': 1, 'snack': 1, 'soar': 0, 'softwar': 2, 'soldier': 0, 'somewher': 0, 'song': 1, 'south': 1, 'southeast': 1, 'southern': 0, 'spade': 0, 'spam': 4, 'speed': 1, 'spike': 0, 'spotlight': 2, 'spywar': 1, 'squar': 0, 'stake': 3, 'star': 3, 'start': 3, 'starter': 1, 'state': 1, 'statu': 1, 'steadi': 0, 'steam': 0, 'steamrol': 0, 'stock': 1, 'stoke': 0, 'store': 1, 'storm': 0, 'stream': 2, 'stress': 0, 'strike': 0, 'studi': 1, 'studio': 1, 'stun': 1, 'sudan': 0, 'sue': 1, 'suit': 1, 'super': 2, 'superfund': 1, 'superpow': 0, 'supplant': 0, 'surrend': 0, 'suspend': 0, 'swell': 0, 'swept': 0, 'swimmer': 0, 'swing': 0, 'switch': 0, 'symbian': 1, 'symbol': 0, 'synstar': 0, 'system': 1, 'tackl': 1, 'take': 3, 'tale': 0, 'talk': 0, 'tap': 0, 'target': 0, 'team': 2, 'tech': 3, 'technolog': 2, 'teen': 1, 'tens': 1, 'test': 2, 'textil': 0, 'thi': 0, 'thorp': 0, 'thought': 1, 'thread': 0, 'throwback': 0, 'tie': 0, 'tiger': 0, 'tight': 0, 'time': 0, 'titl': 0, 'today': 1, 'togeth': 1, 'tool': 1, 'top': 1, 'total': 0, 'tough': 0, 'tourism': 0, 'toward': 0, 'town': 0, 'toy': 1, 'track': 0, 'trade': 0, 'transceiv': 1, 'treat': 1, 'trojan': 2, 'troop': 0, 'true': 0, 'tumbl': 0, 'tunnel': 1, 'turn': 2, 'turtl': 1, 'twice': 0, 'twin': 0, 'type': 0, 'ultim': 0, 'univers': 1, 'unpreced': 1, 'untangl': 0, 'unveil': 2, 'updat': 2, 'upgrad': 1, 'urg': 0, 'usatoday': 0, 'usc': 0, 'use': 2, 'user': 1, 'valu': 0, 'venezuela': 0, 'venezuelan': 0, 'verizon': 0, 'vessel': 1, 'veteran': 0, 'vez': 0, 'via': 1, 'viciou': 1, 'victori': 0, 'video': 1, 'violat': 1, 'violent': 0, 'virtual': 1, 'viru': 1, 'visit': 0, 'vote': 0, 'wall': 2, 'wallpap': 1, 'war': 4, 'warlord': 0, 'warmer': 0, 'warn': 0, 'wash': 1, 'water': 0, 'wave': 0, 'way': 3, 'web': 2, 'week': 0, 'weight': 0, 'wet': 0, 'white': 0, 'whoi': 1, 'wild': 0, 'wilder': 0, 'win': 3, 'window': 2, 'wireless': 3, 'wood': 0, 'work': 3, 'world': 0, 'worm': 1, 'wound': 0, 'wrap': 0, 'wreckag': 0, 'wrestl': 1, 'yahoo': 5, 'yanke': 0, 'year': 0, 'youth': 0}\n"
          ],
          "name": "stdout"
        }
      ]
    },
    {
      "cell_type": "code",
      "metadata": {
        "id": "gwUoz1pE_sQL"
      },
      "source": [
        "n_1 = sum(freq_dict_1.values())\n",
        "n_2 = sum(freq_dict_2.values())\n",
        "n_3 = sum(freq_dict_3.values())\n",
        "n_4 = sum(freq_dict_4.values())\n",
        "vocab = len(filtered_sentence)"
      ],
      "execution_count": null,
      "outputs": []
    },
    {
      "cell_type": "code",
      "metadata": {
        "id": "5-5ujL8KC-h0"
      },
      "source": [
        "for w in filtered_sentence:\n",
        "  freq_dict_1[w] = (freq_dict_1[w] + 1)/(n_1 + vocab)\n",
        "  freq_dict_2[w] = (freq_dict_2[w] + 1)/(n_2 + vocab)\n",
        "  freq_dict_3[w] = (freq_dict_3[w] + 1)/(n_3 + vocab)\n",
        "  freq_dict_4[w] = (freq_dict_4[w] + 1)/(n_4 + vocab)"
      ],
      "execution_count": null,
      "outputs": []
    },
    {
      "cell_type": "code",
      "metadata": {
        "colab": {
          "base_uri": "https://localhost:8080/"
        },
        "id": "pK7Vb4x-BFE3",
        "outputId": "fa817f88-1ac1-482e-9749-9efa503aefdf"
      },
      "source": [
        "test_data = []\n",
        "reply = 'y'\n",
        "while (reply.lower() == 'y'):\n",
        "  test_string = input(\"Input article heading: \")\n",
        "  test_data.append(test_string)\n",
        "  reply = input(\"Wish to enter more? (y/n) \")"
      ],
      "execution_count": null,
      "outputs": [
        {
          "output_type": "stream",
          "text": [
            "Input article heading: sprots\n",
            "Wish to enter more? (y/n) y\n",
            "Input article heading: Technology\n",
            "Wish to enter more? (y/n) n\n"
          ],
          "name": "stdout"
        }
      ]
    },
    {
      "cell_type": "code",
      "metadata": {
        "id": "vzdQLuY7CYUp"
      },
      "source": [
        "def evaluate(test_data):\n",
        "  result = []\n",
        "  for test in test_data:\n",
        "    probabilities = [1,1,1,1]\n",
        "    test = test.lower()\n",
        "    if test in freq_dict_1:\n",
        "      probabilities[0] = probabilities[0] * freq_dict_1[test]\n",
        "    if test in freq_dict_2:\n",
        "      probabilities[1] = probabilities[1] * freq_dict_2[test]\n",
        "    if test in freq_dict_3:\n",
        "      probabilities[2] = probabilities[2] * freq_dict_3[test]\n",
        "    if test in freq_dict_4:\n",
        "      probabilities[3] = probabilities[3] * freq_dict_4[test]\n",
        "    max_prob = max(probabilities)\n",
        "    result.append([test, probabilities.index(max_prob)+1])\n",
        "  return result\n"
      ],
      "execution_count": null,
      "outputs": []
    },
    {
      "cell_type": "code",
      "metadata": {
        "id": "f_esjTtsKyxt"
      },
      "source": [
        "def predict(values):\n",
        "  for value in values:\n",
        "    if value[1] == 1:\n",
        "      print(value[0], \" belongs to class World\")\n",
        "    elif value[1] == 2:\n",
        "      print(value[0], \" belongs to class Sports\")\n",
        "    elif value[1] == 3:\n",
        "      print(value[0], \" belongs to class Business\")\n",
        "    elif value[1] == 4:\n",
        "      print(value[0], \" belongs to class Sci/Tech\")"
      ],
      "execution_count": null,
      "outputs": []
    },
    {
      "cell_type": "code",
      "metadata": {
        "colab": {
          "base_uri": "https://localhost:8080/"
        },
        "id": "4uJaB9JkLS-y",
        "outputId": "f62e312f-60b4-4359-b54e-464770209cef"
      },
      "source": [
        "predict(evaluate(test_data))"
      ],
      "execution_count": null,
      "outputs": [
        {
          "output_type": "stream",
          "text": [
            "sprots  belongs to class World\n",
            "technology  belongs to class World\n"
          ],
          "name": "stdout"
        }
      ]
    }
  ]
}