{
  "nbformat": 4,
  "nbformat_minor": 0,
  "metadata": {
    "colab": {
      "name": "practical2_mlir.ipynb",
      "provenance": [],
      "collapsed_sections": []
    },
    "kernelspec": {
      "name": "python3",
      "display_name": "Python 3"
    },
    "language_info": {
      "name": "python"
    }
  },
  "cells": [
    {
      "cell_type": "code",
      "metadata": {
        "id": "CHknfOgJTlmO"
      },
      "source": [
        "#Import libraries\n",
        "import array\n",
        "import sys\n",
        "import math"
      ],
      "execution_count": null,
      "outputs": []
    },
    {
      "cell_type": "code",
      "metadata": {
        "id": "FIY-Dkg9Xibv"
      },
      "source": [
        "#Create Feature & Class List\n",
        "list1 = [\"NLP\",\"MC\",\"MC\",\"NLP\",\"NWS\",\"NWS\",\"NLP\",\"MC\",\"MC\",\"NLP\"]\n",
        "list2 = [\"Y\",\"N\",\"C\",\"Y\",\"Y\",\"N\",\"C\",\"Y\",\"N\",\"C\"]"
      ],
      "execution_count": null,
      "outputs": []
    },
    {
      "cell_type": "code",
      "metadata": {
        "id": "CNxZ-bOaXk3O"
      },
      "source": [
        "#Calculating Distinct class count\n",
        "countY=list2.count('Y')\n",
        "countN=list2.count('N')\n",
        "countC=list2.count('C')"
      ],
      "execution_count": null,
      "outputs": []
    },
    {
      "cell_type": "code",
      "metadata": {
        "id": "3iFGNkepXpTa"
      },
      "source": [
        "#Calculating Class Probabilities\n",
        "X=countY+countN+countC\n",
        "P_Y=countY/X\n",
        "P_N=countN/X\n",
        "P_C=countC/X"
      ],
      "execution_count": null,
      "outputs": []
    },
    {
      "cell_type": "code",
      "metadata": {
        "id": "_Sw79kelXrtz"
      },
      "source": [
        "count_NLP_Y=0\n",
        "count_NLP_N=0\n",
        "count_NLP_C=0\n",
        "count_MC_Y=0\n",
        "count_MC_C=0\n",
        "count_MC_N=0\n",
        "count_NWS_Y=0\n",
        "count_NWS_C=0\n",
        "count_NWS_N=0"
      ],
      "execution_count": null,
      "outputs": []
    },
    {
      "cell_type": "code",
      "metadata": {
        "id": "LVaNOSGoXuqG"
      },
      "source": [
        "for i in range(len(list1)):\n",
        "    if(list1[i] == \"NLP\" and list2[i] == \"Y\"):\n",
        "        count_NLP_Y=count_NLP_Y+1\n",
        "    elif(list1[i] == \"NLP\" and list2[i] == \"N\"):\n",
        "        count_NLP_N=count_NLP_N+1\n",
        "    elif(list1[i] == \"NLP\" and list2[i] == \"C\"):\n",
        "        count_NLP_C=count_NLP_C+1\n",
        "    elif(list1[i] == \"MC\" and list2[i] == \"N\"):\n",
        "        count_MC_N=count_MC_N+1\n",
        "    elif(list1[i] == \"MC\" and list2[i] == \"Y\"):\n",
        "        count_MC_Y=count_MC_Y+1\n",
        "    elif(list1[i] == \"MC\" and list2[i] == \"C\"):\n",
        "        count_MC_C=count_MC_C+1\n",
        "    elif(list1[i] == \"NWS\" and list2[i] == \"N\"):\n",
        "        count_NWS_N=count_NWS_N+1\n",
        "    elif(list1[i] == \"NWS\" and list2[i] == \"Y\"):\n",
        "        count_NWS_Y=count_NWS_Y+1\n",
        "    elif(list1[i] == \"NWS\" and list2[i] == \"C\"):\n",
        "        count_NWS_C=count_NWS_C+1"
      ],
      "execution_count": null,
      "outputs": []
    },
    {
      "cell_type": "code",
      "metadata": {
        "id": "PrLkhh6rXvjc"
      },
      "source": [
        "P_NLP_Y=count_NLP_Y/countY\n",
        "P_NLP_N=count_NLP_N/countN\n",
        "P_NLP_C=count_NLP_C/countC\n",
        "P_MC_Y=count_MC_Y/countY\n",
        "P_MC_N=count_MC_N/countN\n",
        "P_MC_C=count_MC_C/countC\n",
        "P_NWS_Y=count_NWS_Y/countY\n",
        "P_NWS_N=count_NWS_N/countN\n",
        "P_NWS_C=count_NWS_C/countC"
      ],
      "execution_count": null,
      "outputs": []
    },
    {
      "cell_type": "code",
      "metadata": {
        "colab": {
          "base_uri": "https://localhost:8080/"
        },
        "id": "Zbsa4qOQcBE3",
        "outputId": "f4845a8f-72cb-4d02-f63e-c9622ec29b49"
      },
      "source": [
        "print(\"P(Y) =\",P_Y)\n",
        "print(\"P(N) =\",P_N)\n",
        "print(\"P(C) =\",P_C)"
      ],
      "execution_count": null,
      "outputs": [
        {
          "output_type": "stream",
          "text": [
            "P(Y) = 0.4\n",
            "P(N) = 0.3\n",
            "P(C) = 0.3\n"
          ],
          "name": "stdout"
        }
      ]
    },
    {
      "cell_type": "code",
      "metadata": {
        "colab": {
          "base_uri": "https://localhost:8080/"
        },
        "id": "tBLCnJh8cRMk",
        "outputId": "5450e622-1adb-4475-dc92-4d50ffdb8a61"
      },
      "source": [
        "print(\"NLP/Y\",P_NLP_Y)\n",
        "print(\"NLP/N\",P_NLP_N)\n",
        "print(\"NLP/C\",P_NLP_C)\n",
        "print(\"MC/Y\",P_MC_Y)\n",
        "print(\"MC/N\",P_MC_N)\n",
        "print(\"MC/C\",P_MC_C)\n",
        "print(\"NWS/Y\",P_NWS_Y)\n",
        "print(\"NWS/N\",P_NWS_N)\n",
        "print(\"NWS/C\",P_NWS_C)"
      ],
      "execution_count": null,
      "outputs": [
        {
          "output_type": "stream",
          "text": [
            "NLP/Y 0.5\n",
            "NLP/N 0.0\n",
            "NLP/C 0.6666666666666666\n",
            "MC/Y 0.25\n",
            "MC/N 0.6666666666666666\n",
            "MC/C 0.3333333333333333\n",
            "NWS/Y 0.25\n",
            "NWS/N 0.3333333333333333\n",
            "NWS/C 0.0\n"
          ],
          "name": "stdout"
        }
      ]
    },
    {
      "cell_type": "code",
      "metadata": {
        "colab": {
          "base_uri": "https://localhost:8080/"
        },
        "id": "9fmOo_r0XysY",
        "outputId": "992f6827-1213-4776-f189-4e38ff247413"
      },
      "source": [
        "#Taking Test Value for Prediction\n",
        "val=input(\"Enter Value MC/NLP/NWS : \")\n"
      ],
      "execution_count": null,
      "outputs": [
        {
          "output_type": "stream",
          "text": [
            "Enter Value MC/NLP/NWS : NWS\n"
          ],
          "name": "stdout"
        }
      ]
    },
    {
      "cell_type": "code",
      "metadata": {
        "id": "t4_KxOFVc8L-"
      },
      "source": [
        "if val == \"NLP\":\n",
        " a=P_NLP_Y*P_Y\n",
        " b=P_NLP_N*P_N\n",
        " c=P_NLP_C*P_C\n",
        "elif val == \"NWS\":\n",
        " a=P_NWS_Y*P_Y\n",
        " b=P_NWS_N*P_N\n",
        " c=P_NWS_C*P_C\n",
        "elif val == \"MC\":\n",
        " a=P_MC_Y*P_Y\n",
        " b=P_MC_N*P_N\n",
        " c=P_MC_C*P_C"
      ],
      "execution_count": null,
      "outputs": []
    },
    {
      "cell_type": "code",
      "metadata": {
        "id": "51gOInDzX1zx"
      },
      "source": [
        "if (a > b) and (a > c):\n",
        " predictedOutput=\"Y\"\n",
        "elif (b > a) and (b > c):\n",
        " predictedOutput=\"N\"\n",
        "elif (c > a) and (c > b):\n",
        " predictedOutput=\"C\"\n"
      ],
      "execution_count": null,
      "outputs": []
    },
    {
      "cell_type": "code",
      "metadata": {
        "colab": {
          "base_uri": "https://localhost:8080/"
        },
        "id": "0B6ebKeqc-lh",
        "outputId": "93b8ac88-98a9-475d-dd1a-eebc0035fb1a"
      },
      "source": [
        "print(\"Predicted Output : \",predictedOutput)"
      ],
      "execution_count": null,
      "outputs": [
        {
          "output_type": "stream",
          "text": [
            "Predicted Output :  Y\n"
          ],
          "name": "stdout"
        }
      ]
    }
  ]
}